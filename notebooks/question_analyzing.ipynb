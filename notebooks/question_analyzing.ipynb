{
 "cells": [
  {
   "cell_type": "markdown",
   "metadata": {},
   "source": [
    "# 3. Asking meaningful questions"
   ]
  },
  {
   "cell_type": "markdown",
   "metadata": {},
   "source": [
    "**1. How does air quality differ across various seasons?**\n",
    "- Answering this question will:\n",
    "    - Reveal seasonal variations in air quality\n",
    "    - Help understand environmental and climatic impacts on air pollution\n",
    "    - Provide insights for public health and environmental policy\n",
    "- How we answer this question:\n",
    "    - Data Preparation:\n",
    "        - Use Python with pandas for data manipulation\n",
    "        - Calculate US Air Quality Index (AQI) for each measurement\n",
    "        - Categorize data by seasons (Spring, Summer, Autumn, Winter)\n",
    "        - Split countries into continental regions\n",
    "    - Analysis Techniques:\n",
    "        - Calculate average AQI for each season and continent\n",
    "        - Create visualizations to demonstrate seasonal variations\n",
    "        - Statistical tests to validate significant differences\n",
    "- Visualization Strategy:\n",
    "    - Line chart showing US_AQI trends across seasons for different regions\n",
    "    - Bar chart comparing average pollutant levels by season and region\n",
    "\n",
    "**2. What are the levels of pollution during different weather conditions?**\n",
    "- Answering this question will:\n",
    "    - Understand how weather parameters influence air pollution\n",
    "    - Identify weather conditions associated with higher pollution levels\n",
    "    - Support environmental monitoring and forecasting efforts\n",
    "- How we answer this question:\n",
    "    - Data Categorization:\n",
    "        - Group temperature into ranges (Cold, Mild, Hot)\n",
    "        - Categorize humidity levels (Low, Medium, High)\n",
    "        - Classify wind speed (Calm, Moderate, Strong)\n",
    "    - Analysis Approach:\n",
    "        - Calculate average AQI for each weather category\n",
    "        - Perform statistical analysis to determine correlations\n",
    "        - Develop multi-dimensional visualization\n",
    "- Visualization Strategy:\n",
    "    - Heatmaps showing AQI variations across weather parameters\n",
    "    - Box plots comparing pollution levels in different weather conditions\n",
    "\n",
    "**3. What is the correlation between humidity and the ratio of PM2.5 to PM10 in different continents?**\n",
    "- Answering this question will:\n",
    "    - Explore relationship between humidity and particulate matter ratios\n",
    "    - Understand regional differences in air pollution characteristics\n",
    "    - Provide insights into atmospheric particulate interactions\n",
    "- How we answer this question:\n",
    "    - Data Preparation:\n",
    "        - Create new column 'PM2.5/PM10' ratio\n",
    "        - Group data by continent\n",
    "        - Calculate Pearson correlation coefficient\n",
    "    - Analysis Techniques:\n",
    "        - Compute correlation between humidity and PM ratio for each continent\n",
    "        - Assess statistical significance of correlations\n",
    "        - Visualize correlation strengths\n",
    "- Visualization Strategy:\n",
    "    - Bar chart showing correlation coefficients by continent\n",
    "    - Scatter plots with regression lines\n",
    "\n",
    "**4. Which pollutants contribute the most to overall Air Pollution level in each city?**\n",
    "- Answering this question will:\n",
    "    - Identify primary pollution sources in different cities\n",
    "    - Support targeted environmental interventions\n",
    "    - Help understand urban air quality variations\n",
    "- How we answer this question:\n",
    "    - Data Analysis:\n",
    "        - Calculate average levels for pollutants: PM2.5, PM10, NO2, SO2, CO, O3\n",
    "        - Normalize pollutant concentrations\n",
    "        - Rank pollutants by contribution to overall air pollution\n",
    "    - Visualization Techniques:\n",
    "        - Stacked bar charts for each city\n",
    "        - Percentage contribution of each pollutant\n",
    "        - Interactive visualizations for detailed exploration\n",
    "- Visualization Strategy:\n",
    "    - Stacked bar charts showing pollutant contributions\n",
    "    - Radar/spider charts comparing pollutant profiles\n",
    "\n",
    "**5. How does population density impact air quality?**\n",
    "- Answering this question will:\n",
    "    - Explore relationship between urban concentration and pollution\n",
    "    - Provide insights for urban planning and environmental policy\n",
    "    - Understand human settlement impacts on air quality\n",
    "- How we answer this question:\n",
    "    - Data Preparation:\n",
    "        - Integrate population density data\n",
    "            - Categorize cities into density groups:\n",
    "            - Very Low: < 500 people/km²\n",
    "            - Low: 500-1500 people/km²\n",
    "            - Moderate: 1500-3000 people/km²\n",
    "            - High: 3000-5000 people/km²\n",
    "            - Very High: > 5000 people/km²\n",
    "    - Analysis Approach:\n",
    "        - Calculate average AQI for each population density category\n",
    "        - Perform statistical tests to validate relationships\n",
    "        - Create comparative visualizations\n",
    "\n",
    "- Visualization Strategy:\n",
    "    - Box plots showing AQI distribution across population density groups\n",
    "    - Scatter plots with regression lines\n"
   ]
  },
  {
   "cell_type": "markdown",
   "metadata": {},
   "source": [
    "# 4. Preprocessing + analyzing data to answer each question"
   ]
  },
  {
   "cell_type": "markdown",
   "metadata": {},
   "source": [
    "## 4.0 Import libraries and load datasets"
   ]
  },
  {
   "cell_type": "code",
   "execution_count": 3,
   "metadata": {},
   "outputs": [],
   "source": [
    "import numpy as np\n",
    "import pandas as pd\n",
    "import matplotlib.pyplot as plt\n",
    "import seaborn as sns"
   ]
  },
  {
   "cell_type": "code",
   "execution_count": 4,
   "metadata": {},
   "outputs": [
    {
     "data": {
      "text/html": [
       "<div>\n",
       "<style scoped>\n",
       "    .dataframe tbody tr th:only-of-type {\n",
       "        vertical-align: middle;\n",
       "    }\n",
       "\n",
       "    .dataframe tbody tr th {\n",
       "        vertical-align: top;\n",
       "    }\n",
       "\n",
       "    .dataframe thead th {\n",
       "        text-align: right;\n",
       "    }\n",
       "</style>\n",
       "<table border=\"1\" class=\"dataframe\">\n",
       "  <thead>\n",
       "    <tr style=\"text-align: right;\">\n",
       "      <th></th>\n",
       "      <th>City</th>\n",
       "      <th>Country</th>\n",
       "      <th>Date</th>\n",
       "      <th>PM2.5</th>\n",
       "      <th>PM10</th>\n",
       "      <th>NO2</th>\n",
       "      <th>SO2</th>\n",
       "      <th>CO</th>\n",
       "      <th>O3</th>\n",
       "      <th>Temperature</th>\n",
       "      <th>Humidity</th>\n",
       "      <th>Wind Speed</th>\n",
       "    </tr>\n",
       "  </thead>\n",
       "  <tbody>\n",
       "    <tr>\n",
       "      <th>0</th>\n",
       "      <td>Bangkok</td>\n",
       "      <td>Thailand</td>\n",
       "      <td>2023-03-19</td>\n",
       "      <td>86.57</td>\n",
       "      <td>25.19</td>\n",
       "      <td>99.88</td>\n",
       "      <td>30.63</td>\n",
       "      <td>4.46</td>\n",
       "      <td>36.29</td>\n",
       "      <td>17.67</td>\n",
       "      <td>59.35</td>\n",
       "      <td>13.76</td>\n",
       "    </tr>\n",
       "    <tr>\n",
       "      <th>1</th>\n",
       "      <td>Istanbul</td>\n",
       "      <td>Turkey</td>\n",
       "      <td>2023-02-16</td>\n",
       "      <td>50.63</td>\n",
       "      <td>97.39</td>\n",
       "      <td>48.14</td>\n",
       "      <td>8.71</td>\n",
       "      <td>3.40</td>\n",
       "      <td>144.16</td>\n",
       "      <td>3.46</td>\n",
       "      <td>67.51</td>\n",
       "      <td>6.36</td>\n",
       "    </tr>\n",
       "    <tr>\n",
       "      <th>2</th>\n",
       "      <td>Rio de Janeiro</td>\n",
       "      <td>Brazil</td>\n",
       "      <td>2023-11-13</td>\n",
       "      <td>130.21</td>\n",
       "      <td>57.22</td>\n",
       "      <td>98.51</td>\n",
       "      <td>9.92</td>\n",
       "      <td>0.12</td>\n",
       "      <td>179.31</td>\n",
       "      <td>25.29</td>\n",
       "      <td>29.30</td>\n",
       "      <td>12.87</td>\n",
       "    </tr>\n",
       "    <tr>\n",
       "      <th>3</th>\n",
       "      <td>Mumbai</td>\n",
       "      <td>India</td>\n",
       "      <td>2023-03-16</td>\n",
       "      <td>119.70</td>\n",
       "      <td>130.52</td>\n",
       "      <td>10.96</td>\n",
       "      <td>33.03</td>\n",
       "      <td>7.74</td>\n",
       "      <td>38.65</td>\n",
       "      <td>23.15</td>\n",
       "      <td>99.97</td>\n",
       "      <td>7.71</td>\n",
       "    </tr>\n",
       "    <tr>\n",
       "      <th>4</th>\n",
       "      <td>Paris</td>\n",
       "      <td>France</td>\n",
       "      <td>2023-04-04</td>\n",
       "      <td>55.20</td>\n",
       "      <td>36.62</td>\n",
       "      <td>76.85</td>\n",
       "      <td>21.85</td>\n",
       "      <td>2.00</td>\n",
       "      <td>67.09</td>\n",
       "      <td>16.02</td>\n",
       "      <td>90.28</td>\n",
       "      <td>14.16</td>\n",
       "    </tr>\n",
       "    <tr>\n",
       "      <th>...</th>\n",
       "      <td>...</td>\n",
       "      <td>...</td>\n",
       "      <td>...</td>\n",
       "      <td>...</td>\n",
       "      <td>...</td>\n",
       "      <td>...</td>\n",
       "      <td>...</td>\n",
       "      <td>...</td>\n",
       "      <td>...</td>\n",
       "      <td>...</td>\n",
       "      <td>...</td>\n",
       "      <td>...</td>\n",
       "    </tr>\n",
       "    <tr>\n",
       "      <th>9995</th>\n",
       "      <td>Johannesburg</td>\n",
       "      <td>South Africa</td>\n",
       "      <td>2023-09-16</td>\n",
       "      <td>147.85</td>\n",
       "      <td>184.34</td>\n",
       "      <td>90.33</td>\n",
       "      <td>34.93</td>\n",
       "      <td>2.81</td>\n",
       "      <td>191.45</td>\n",
       "      <td>-1.92</td>\n",
       "      <td>65.22</td>\n",
       "      <td>15.48</td>\n",
       "    </tr>\n",
       "    <tr>\n",
       "      <th>9996</th>\n",
       "      <td>Berlin</td>\n",
       "      <td>Germany</td>\n",
       "      <td>2023-12-05</td>\n",
       "      <td>12.22</td>\n",
       "      <td>121.49</td>\n",
       "      <td>49.04</td>\n",
       "      <td>5.66</td>\n",
       "      <td>2.10</td>\n",
       "      <td>184.56</td>\n",
       "      <td>-9.81</td>\n",
       "      <td>12.16</td>\n",
       "      <td>10.75</td>\n",
       "    </tr>\n",
       "    <tr>\n",
       "      <th>9997</th>\n",
       "      <td>Moscow</td>\n",
       "      <td>Russia</td>\n",
       "      <td>2023-11-26</td>\n",
       "      <td>44.07</td>\n",
       "      <td>143.62</td>\n",
       "      <td>8.41</td>\n",
       "      <td>32.58</td>\n",
       "      <td>0.69</td>\n",
       "      <td>167.68</td>\n",
       "      <td>39.35</td>\n",
       "      <td>53.95</td>\n",
       "      <td>4.56</td>\n",
       "    </tr>\n",
       "    <tr>\n",
       "      <th>9998</th>\n",
       "      <td>Berlin</td>\n",
       "      <td>Germany</td>\n",
       "      <td>2023-02-03</td>\n",
       "      <td>67.43</td>\n",
       "      <td>96.79</td>\n",
       "      <td>43.23</td>\n",
       "      <td>29.19</td>\n",
       "      <td>6.01</td>\n",
       "      <td>148.50</td>\n",
       "      <td>26.21</td>\n",
       "      <td>58.54</td>\n",
       "      <td>2.71</td>\n",
       "    </tr>\n",
       "    <tr>\n",
       "      <th>9999</th>\n",
       "      <td>Bangkok</td>\n",
       "      <td>Thailand</td>\n",
       "      <td>2023-06-13</td>\n",
       "      <td>16.34</td>\n",
       "      <td>28.80</td>\n",
       "      <td>50.48</td>\n",
       "      <td>21.20</td>\n",
       "      <td>0.49</td>\n",
       "      <td>17.41</td>\n",
       "      <td>2.50</td>\n",
       "      <td>66.05</td>\n",
       "      <td>5.01</td>\n",
       "    </tr>\n",
       "  </tbody>\n",
       "</table>\n",
       "<p>10000 rows × 12 columns</p>\n",
       "</div>"
      ],
      "text/plain": [
       "                City       Country        Date   PM2.5    PM10    NO2    SO2  \\\n",
       "0            Bangkok      Thailand  2023-03-19   86.57   25.19  99.88  30.63   \n",
       "1           Istanbul        Turkey  2023-02-16   50.63   97.39  48.14   8.71   \n",
       "2     Rio de Janeiro        Brazil  2023-11-13  130.21   57.22  98.51   9.92   \n",
       "3             Mumbai         India  2023-03-16  119.70  130.52  10.96  33.03   \n",
       "4              Paris        France  2023-04-04   55.20   36.62  76.85  21.85   \n",
       "...              ...           ...         ...     ...     ...    ...    ...   \n",
       "9995    Johannesburg  South Africa  2023-09-16  147.85  184.34  90.33  34.93   \n",
       "9996          Berlin       Germany  2023-12-05   12.22  121.49  49.04   5.66   \n",
       "9997          Moscow        Russia  2023-11-26   44.07  143.62   8.41  32.58   \n",
       "9998          Berlin       Germany  2023-02-03   67.43   96.79  43.23  29.19   \n",
       "9999         Bangkok      Thailand  2023-06-13   16.34   28.80  50.48  21.20   \n",
       "\n",
       "        CO      O3  Temperature  Humidity  Wind Speed  \n",
       "0     4.46   36.29        17.67     59.35       13.76  \n",
       "1     3.40  144.16         3.46     67.51        6.36  \n",
       "2     0.12  179.31        25.29     29.30       12.87  \n",
       "3     7.74   38.65        23.15     99.97        7.71  \n",
       "4     2.00   67.09        16.02     90.28       14.16  \n",
       "...    ...     ...          ...       ...         ...  \n",
       "9995  2.81  191.45        -1.92     65.22       15.48  \n",
       "9996  2.10  184.56        -9.81     12.16       10.75  \n",
       "9997  0.69  167.68        39.35     53.95        4.56  \n",
       "9998  6.01  148.50        26.21     58.54        2.71  \n",
       "9999  0.49   17.41         2.50     66.05        5.01  \n",
       "\n",
       "[10000 rows x 12 columns]"
      ]
     },
     "execution_count": 4,
     "metadata": {},
     "output_type": "execute_result"
    }
   ],
   "source": [
    "df = pd.read_csv('../data/global_air_quality_data_10000.csv')\n",
    "df"
   ]
  },
  {
   "cell_type": "markdown",
   "metadata": {},
   "source": [
    "## 4.1. How does air quality differ across various seasons?"
   ]
  },
  {
   "cell_type": "markdown",
   "metadata": {},
   "source": [
    "*Preprocessing steps:*"
   ]
  },
  {
   "cell_type": "code",
   "execution_count": null,
   "metadata": {},
   "outputs": [],
   "source": []
  },
  {
   "cell_type": "markdown",
   "metadata": {},
   "source": [
    "*Analysis steps:*"
   ]
  },
  {
   "cell_type": "code",
   "execution_count": null,
   "metadata": {},
   "outputs": [],
   "source": []
  },
  {
   "cell_type": "markdown",
   "metadata": {},
   "source": [
    "## 4.2. What are the levels of pollution during different weather conditions?\n"
   ]
  },
  {
   "cell_type": "markdown",
   "metadata": {},
   "source": [
    "*Preprocessing steps:*"
   ]
  },
  {
   "cell_type": "code",
   "execution_count": null,
   "metadata": {},
   "outputs": [],
   "source": []
  },
  {
   "cell_type": "markdown",
   "metadata": {},
   "source": [
    "*Analysis steps:*"
   ]
  },
  {
   "cell_type": "code",
   "execution_count": null,
   "metadata": {},
   "outputs": [],
   "source": []
  },
  {
   "cell_type": "markdown",
   "metadata": {},
   "source": [
    "## 4.3. What is the correlation between humidity and the ratio of PM2.5 to PM10 in different continents?\n"
   ]
  },
  {
   "cell_type": "markdown",
   "metadata": {},
   "source": [
    "*Preprocessing steps:*"
   ]
  },
  {
   "cell_type": "code",
   "execution_count": null,
   "metadata": {},
   "outputs": [],
   "source": []
  },
  {
   "cell_type": "markdown",
   "metadata": {},
   "source": [
    "*Analysis steps:*"
   ]
  },
  {
   "cell_type": "code",
   "execution_count": null,
   "metadata": {},
   "outputs": [],
   "source": []
  },
  {
   "cell_type": "markdown",
   "metadata": {},
   "source": [
    "## 4.4. Which pollutants contribute the most to overall Air Pollution level in each city?"
   ]
  },
  {
   "cell_type": "markdown",
   "metadata": {},
   "source": [
    "*Preprocessing steps:*"
   ]
  },
  {
   "cell_type": "code",
   "execution_count": null,
   "metadata": {},
   "outputs": [],
   "source": []
  },
  {
   "cell_type": "markdown",
   "metadata": {},
   "source": [
    "*Analysis steps:*"
   ]
  },
  {
   "cell_type": "code",
   "execution_count": null,
   "metadata": {},
   "outputs": [],
   "source": []
  },
  {
   "cell_type": "markdown",
   "metadata": {},
   "source": [
    "## 4.5. How does population density impact air quality?"
   ]
  },
  {
   "cell_type": "markdown",
   "metadata": {},
   "source": [
    "*Preprocessing steps:*"
   ]
  },
  {
   "cell_type": "code",
   "execution_count": null,
   "metadata": {},
   "outputs": [],
   "source": []
  },
  {
   "cell_type": "markdown",
   "metadata": {},
   "source": [
    "*Analysis steps:*"
   ]
  },
  {
   "cell_type": "code",
   "execution_count": null,
   "metadata": {},
   "outputs": [],
   "source": []
  }
 ],
 "metadata": {
  "kernelspec": {
   "display_name": "min_ds-env",
   "language": "python",
   "name": "python3"
  },
  "language_info": {
   "codemirror_mode": {
    "name": "ipython",
    "version": 3
   },
   "file_extension": ".py",
   "mimetype": "text/x-python",
   "name": "python",
   "nbconvert_exporter": "python",
   "pygments_lexer": "ipython3",
   "version": "3.12.7"
  }
 },
 "nbformat": 4,
 "nbformat_minor": 2
}
