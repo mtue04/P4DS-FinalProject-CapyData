{
 "cells": [
  {
   "cell_type": "markdown",
   "metadata": {},
   "source": [
    "# 3. Asking meaningful questions"
   ]
  },
  {
   "cell_type": "markdown",
   "metadata": {},
   "source": [
    "**1. How does air quality differ across various seasons?**\n",
    "- Answering this question will:\n",
    "    - Reveal seasonal variations in air quality\n",
    "    - Help understand environmental and climatic impacts on air pollution\n",
    "    - Provide insights for public health and environmental policy\n",
    "- How we answer this question:\n",
    "    - Data Preparation:\n",
    "        - Use Python with pandas for data manipulation\n",
    "        - Calculate US Air Quality Index (AQI) for each measurement\n",
    "        - Categorize data by seasons (Spring, Summer, Autumn, Winter)\n",
    "        - Split countries into continental regions\n",
    "    - Analysis Techniques:\n",
    "        - Calculate average AQI for each season and continent\n",
    "        - Create visualizations to demonstrate seasonal variations\n",
    "        - Statistical tests to validate significant differences\n",
    "- Visualization Strategy:\n",
    "    - Line chart showing US_AQI trends across seasons for different regions\n",
    "    - Bar chart comparing average pollutant levels by season and region\n",
    "\n",
    "**2. What are the levels of pollution during different weather conditions?**\n",
    "- Answering this question will:\n",
    "    - Understand how weather parameters influence air pollution\n",
    "    - Identify weather conditions associated with higher pollution levels\n",
    "    - Support environmental monitoring and forecasting efforts\n",
    "- How we answer this question:\n",
    "    - Data Categorization:\n",
    "        - Group temperature into ranges (Cold, Mild, Hot)\n",
    "        - Categorize humidity levels (Low, Medium, High)\n",
    "        - Classify wind speed (Calm, Moderate, Strong)\n",
    "    - Analysis Approach:\n",
    "        - Calculate average AQI for each weather category\n",
    "        - Perform statistical analysis to determine correlations\n",
    "        - Develop multi-dimensional visualization\n",
    "- Visualization Strategy:\n",
    "    - Heatmaps showing AQI variations across weather parameters\n",
    "    - Box plots comparing pollution levels in different weather conditions\n",
    "\n",
    "**3. What is the correlation between humidity and the ratio of PM2.5 to PM10 in different continents?**\n",
    "- Answering this question will:\n",
    "    - Explore relationship between humidity and particulate matter ratios\n",
    "    - Understand regional differences in air pollution characteristics\n",
    "    - Provide insights into atmospheric particulate interactions\n",
    "- How we answer this question:\n",
    "    - Data Preparation:\n",
    "        - Create new column 'PM2.5/PM10' ratio\n",
    "        - Group data by continent\n",
    "        - Calculate Pearson correlation coefficient\n",
    "    - Analysis Techniques:\n",
    "        - Compute correlation between humidity and PM ratio for each continent\n",
    "        - Assess statistical significance of correlations\n",
    "        - Visualize correlation strengths\n",
    "- Visualization Strategy:\n",
    "    - Bar chart showing correlation coefficients by continent\n",
    "    - Scatter plots with regression lines\n",
    "\n",
    "**4. Which pollutants contribute the most to overall Air Pollution level in each city?**\n",
    "- Answering this question will:\n",
    "    - Identify primary pollution sources in different cities\n",
    "    - Support targeted environmental interventions\n",
    "    - Help understand urban air quality variations\n",
    "- How we answer this question:\n",
    "    - Data Analysis:\n",
    "        - Calculate average levels for pollutants: PM2.5, PM10, NO2, SO2, CO, O3\n",
    "        - Normalize pollutant concentrations\n",
    "        - Rank pollutants by contribution to overall air pollution\n",
    "    - Visualization Techniques:\n",
    "        - Stacked bar charts for each city\n",
    "        - Percentage contribution of each pollutant\n",
    "        - Interactive visualizations for detailed exploration\n",
    "- Visualization Strategy:\n",
    "    - Stacked bar charts showing pollutant contributions\n",
    "    - Radar/spider charts comparing pollutant profiles\n",
    "\n",
    "**5. How does population density impact air quality?**\n",
    "- Answering this question will:\n",
    "    - Explore relationship between urban concentration and pollution\n",
    "    - Provide insights for urban planning and environmental policy\n",
    "    - Understand human settlement impacts on air quality\n",
    "- How we answer this question:\n",
    "    - Data Preparation:\n",
    "        - Integrate population density data\n",
    "            - Categorize cities into density groups:\n",
    "            - Very Low: < 500 people/km²\n",
    "            - Low: 500-1500 people/km²\n",
    "            - Moderate: 1500-3000 people/km²\n",
    "            - High: 3000-5000 people/km²\n",
    "            - Very High: > 5000 people/km²\n",
    "    - Analysis Approach:\n",
    "        - Calculate average AQI for each population density category\n",
    "        - Perform statistical tests to validate relationships\n",
    "        - Create comparative visualizations\n",
    "\n",
    "- Visualization Strategy:\n",
    "    - Box plots showing AQI distribution across population density groups\n",
    "    - Scatter plots with regression lines\n"
   ]
  },
  {
   "cell_type": "markdown",
   "metadata": {},
   "source": [
    "# 4. Preprocessing + analyzing data to answer each question"
   ]
  },
  {
   "cell_type": "markdown",
   "metadata": {},
   "source": [
    "## 4.0 Import libraries and load datasets"
   ]
  },
  {
   "cell_type": "code",
   "execution_count": 1,
   "metadata": {},
   "outputs": [],
   "source": [
    "import pandas as pd\n",
    "import plotly.express as px\n",
    "import plotly.graph_objects as go\n",
    "import seaborn as sns\n",
    "import matplotlib.pyplot as plt\n",
    "import numpy as np"
   ]
  },
  {
   "cell_type": "code",
   "execution_count": 40,
   "metadata": {},
   "outputs": [
    {
     "data": {
      "text/html": [
       "<div>\n",
       "<style scoped>\n",
       "    .dataframe tbody tr th:only-of-type {\n",
       "        vertical-align: middle;\n",
       "    }\n",
       "\n",
       "    .dataframe tbody tr th {\n",
       "        vertical-align: top;\n",
       "    }\n",
       "\n",
       "    .dataframe thead th {\n",
       "        text-align: right;\n",
       "    }\n",
       "</style>\n",
       "<table border=\"1\" class=\"dataframe\">\n",
       "  <thead>\n",
       "    <tr style=\"text-align: right;\">\n",
       "      <th></th>\n",
       "      <th>City</th>\n",
       "      <th>Country</th>\n",
       "      <th>Date</th>\n",
       "      <th>PM2.5</th>\n",
       "      <th>PM10</th>\n",
       "      <th>NO2</th>\n",
       "      <th>SO2</th>\n",
       "      <th>CO</th>\n",
       "      <th>O3</th>\n",
       "      <th>Temperature</th>\n",
       "      <th>Humidity</th>\n",
       "      <th>Wind Speed</th>\n",
       "    </tr>\n",
       "  </thead>\n",
       "  <tbody>\n",
       "    <tr>\n",
       "      <th>0</th>\n",
       "      <td>Bangkok</td>\n",
       "      <td>Thailand</td>\n",
       "      <td>2023-03-19</td>\n",
       "      <td>86.57</td>\n",
       "      <td>25.19</td>\n",
       "      <td>99.88</td>\n",
       "      <td>30.63</td>\n",
       "      <td>4.46</td>\n",
       "      <td>36.29</td>\n",
       "      <td>17.67</td>\n",
       "      <td>59.35</td>\n",
       "      <td>13.76</td>\n",
       "    </tr>\n",
       "    <tr>\n",
       "      <th>1</th>\n",
       "      <td>Istanbul</td>\n",
       "      <td>Turkey</td>\n",
       "      <td>2023-02-16</td>\n",
       "      <td>50.63</td>\n",
       "      <td>97.39</td>\n",
       "      <td>48.14</td>\n",
       "      <td>8.71</td>\n",
       "      <td>3.40</td>\n",
       "      <td>144.16</td>\n",
       "      <td>3.46</td>\n",
       "      <td>67.51</td>\n",
       "      <td>6.36</td>\n",
       "    </tr>\n",
       "    <tr>\n",
       "      <th>2</th>\n",
       "      <td>Rio de Janeiro</td>\n",
       "      <td>Brazil</td>\n",
       "      <td>2023-11-13</td>\n",
       "      <td>130.21</td>\n",
       "      <td>57.22</td>\n",
       "      <td>98.51</td>\n",
       "      <td>9.92</td>\n",
       "      <td>0.12</td>\n",
       "      <td>179.31</td>\n",
       "      <td>25.29</td>\n",
       "      <td>29.30</td>\n",
       "      <td>12.87</td>\n",
       "    </tr>\n",
       "    <tr>\n",
       "      <th>3</th>\n",
       "      <td>Mumbai</td>\n",
       "      <td>India</td>\n",
       "      <td>2023-03-16</td>\n",
       "      <td>119.70</td>\n",
       "      <td>130.52</td>\n",
       "      <td>10.96</td>\n",
       "      <td>33.03</td>\n",
       "      <td>7.74</td>\n",
       "      <td>38.65</td>\n",
       "      <td>23.15</td>\n",
       "      <td>99.97</td>\n",
       "      <td>7.71</td>\n",
       "    </tr>\n",
       "    <tr>\n",
       "      <th>4</th>\n",
       "      <td>Paris</td>\n",
       "      <td>France</td>\n",
       "      <td>2023-04-04</td>\n",
       "      <td>55.20</td>\n",
       "      <td>36.62</td>\n",
       "      <td>76.85</td>\n",
       "      <td>21.85</td>\n",
       "      <td>2.00</td>\n",
       "      <td>67.09</td>\n",
       "      <td>16.02</td>\n",
       "      <td>90.28</td>\n",
       "      <td>14.16</td>\n",
       "    </tr>\n",
       "    <tr>\n",
       "      <th>...</th>\n",
       "      <td>...</td>\n",
       "      <td>...</td>\n",
       "      <td>...</td>\n",
       "      <td>...</td>\n",
       "      <td>...</td>\n",
       "      <td>...</td>\n",
       "      <td>...</td>\n",
       "      <td>...</td>\n",
       "      <td>...</td>\n",
       "      <td>...</td>\n",
       "      <td>...</td>\n",
       "      <td>...</td>\n",
       "    </tr>\n",
       "    <tr>\n",
       "      <th>9995</th>\n",
       "      <td>Johannesburg</td>\n",
       "      <td>South Africa</td>\n",
       "      <td>2023-09-16</td>\n",
       "      <td>147.85</td>\n",
       "      <td>184.34</td>\n",
       "      <td>90.33</td>\n",
       "      <td>34.93</td>\n",
       "      <td>2.81</td>\n",
       "      <td>191.45</td>\n",
       "      <td>-1.92</td>\n",
       "      <td>65.22</td>\n",
       "      <td>15.48</td>\n",
       "    </tr>\n",
       "    <tr>\n",
       "      <th>9996</th>\n",
       "      <td>Berlin</td>\n",
       "      <td>Germany</td>\n",
       "      <td>2023-12-05</td>\n",
       "      <td>12.22</td>\n",
       "      <td>121.49</td>\n",
       "      <td>49.04</td>\n",
       "      <td>5.66</td>\n",
       "      <td>2.10</td>\n",
       "      <td>184.56</td>\n",
       "      <td>-9.81</td>\n",
       "      <td>12.16</td>\n",
       "      <td>10.75</td>\n",
       "    </tr>\n",
       "    <tr>\n",
       "      <th>9997</th>\n",
       "      <td>Moscow</td>\n",
       "      <td>Russia</td>\n",
       "      <td>2023-11-26</td>\n",
       "      <td>44.07</td>\n",
       "      <td>143.62</td>\n",
       "      <td>8.41</td>\n",
       "      <td>32.58</td>\n",
       "      <td>0.69</td>\n",
       "      <td>167.68</td>\n",
       "      <td>39.35</td>\n",
       "      <td>53.95</td>\n",
       "      <td>4.56</td>\n",
       "    </tr>\n",
       "    <tr>\n",
       "      <th>9998</th>\n",
       "      <td>Berlin</td>\n",
       "      <td>Germany</td>\n",
       "      <td>2023-02-03</td>\n",
       "      <td>67.43</td>\n",
       "      <td>96.79</td>\n",
       "      <td>43.23</td>\n",
       "      <td>29.19</td>\n",
       "      <td>6.01</td>\n",
       "      <td>148.50</td>\n",
       "      <td>26.21</td>\n",
       "      <td>58.54</td>\n",
       "      <td>2.71</td>\n",
       "    </tr>\n",
       "    <tr>\n",
       "      <th>9999</th>\n",
       "      <td>Bangkok</td>\n",
       "      <td>Thailand</td>\n",
       "      <td>2023-06-13</td>\n",
       "      <td>16.34</td>\n",
       "      <td>28.80</td>\n",
       "      <td>50.48</td>\n",
       "      <td>21.20</td>\n",
       "      <td>0.49</td>\n",
       "      <td>17.41</td>\n",
       "      <td>2.50</td>\n",
       "      <td>66.05</td>\n",
       "      <td>5.01</td>\n",
       "    </tr>\n",
       "  </tbody>\n",
       "</table>\n",
       "<p>10000 rows × 12 columns</p>\n",
       "</div>"
      ],
      "text/plain": [
       "                City       Country        Date   PM2.5    PM10    NO2    SO2  \\\n",
       "0            Bangkok      Thailand  2023-03-19   86.57   25.19  99.88  30.63   \n",
       "1           Istanbul        Turkey  2023-02-16   50.63   97.39  48.14   8.71   \n",
       "2     Rio de Janeiro        Brazil  2023-11-13  130.21   57.22  98.51   9.92   \n",
       "3             Mumbai         India  2023-03-16  119.70  130.52  10.96  33.03   \n",
       "4              Paris        France  2023-04-04   55.20   36.62  76.85  21.85   \n",
       "...              ...           ...         ...     ...     ...    ...    ...   \n",
       "9995    Johannesburg  South Africa  2023-09-16  147.85  184.34  90.33  34.93   \n",
       "9996          Berlin       Germany  2023-12-05   12.22  121.49  49.04   5.66   \n",
       "9997          Moscow        Russia  2023-11-26   44.07  143.62   8.41  32.58   \n",
       "9998          Berlin       Germany  2023-02-03   67.43   96.79  43.23  29.19   \n",
       "9999         Bangkok      Thailand  2023-06-13   16.34   28.80  50.48  21.20   \n",
       "\n",
       "        CO      O3  Temperature  Humidity  Wind Speed  \n",
       "0     4.46   36.29        17.67     59.35       13.76  \n",
       "1     3.40  144.16         3.46     67.51        6.36  \n",
       "2     0.12  179.31        25.29     29.30       12.87  \n",
       "3     7.74   38.65        23.15     99.97        7.71  \n",
       "4     2.00   67.09        16.02     90.28       14.16  \n",
       "...    ...     ...          ...       ...         ...  \n",
       "9995  2.81  191.45        -1.92     65.22       15.48  \n",
       "9996  2.10  184.56        -9.81     12.16       10.75  \n",
       "9997  0.69  167.68        39.35     53.95        4.56  \n",
       "9998  6.01  148.50        26.21     58.54        2.71  \n",
       "9999  0.49   17.41         2.50     66.05        5.01  \n",
       "\n",
       "[10000 rows x 12 columns]"
      ]
     },
     "execution_count": 40,
     "metadata": {},
     "output_type": "execute_result"
    }
   ],
   "source": [
    "df = pd.read_csv('../data/global_air_quality_data_10000.csv')\n",
    "df"
   ]
  },
  {
   "cell_type": "markdown",
   "metadata": {},
   "source": [
    "## 4.1. How does air quality differ across various seasons?"
   ]
  },
  {
   "cell_type": "code",
   "execution_count": 41,
   "metadata": {},
   "outputs": [],
   "source": [
    "def calculate_us_aqi(row):\n",
    "    \"\"\"\n",
    "    Calculate US Air Quality Index (AQI) for a single row of data using the updated formula.\n",
    "    \n",
    "    Args:\n",
    "        row (pd.Series): Row containing pollution measurements\n",
    "    \n",
    "    Returns:\n",
    "        int or np.nan: Calculated AQI value\n",
    "    \"\"\"\n",
    "    # Updated AQI breakpoints for each pollutant\n",
    "    aqi_breakpoints = {\n",
    "        'pm25': [\n",
    "            (0, 12.0, 0, 50),\n",
    "            (12.1, 35.4, 51, 100),\n",
    "            (35.5, 55.4, 101, 150),\n",
    "            (55.5, 150.4, 151, 200),\n",
    "            (150.5, 250.4, 201, 300),\n",
    "            (250.5, 350.4, 301, 400),\n",
    "            (350.5, 500.4, 401, 500)\n",
    "        ],\n",
    "        'pm10': [\n",
    "            (0, 54, 0, 50),\n",
    "            (55, 154, 51, 100),\n",
    "            (155, 254, 101, 150),\n",
    "            (255, 354, 151, 200),\n",
    "            (355, 424, 201, 300),\n",
    "            (425, 504, 301, 400),\n",
    "            (505, 604, 401, 500)\n",
    "        ],\n",
    "        'no2': [\n",
    "            (0, 53, 0, 50),\n",
    "            (54, 100, 51, 100),\n",
    "            (101, 360, 101, 150),\n",
    "            (361, 649, 151, 200),\n",
    "            (650, 1249, 201, 300),\n",
    "            (1250, 2049, 301, 400),\n",
    "            (2050, 2749, 401, 500)\n",
    "        ],\n",
    "        'so2': [\n",
    "            (0, 35, 0, 50),\n",
    "            (36, 75, 51, 100),\n",
    "            (76, 185, 101, 150),\n",
    "            (186, 304, 151, 200),\n",
    "            (305, 604, 201, 300),\n",
    "            (605, 1004, 301, 400),\n",
    "            (1005, 1504, 401, 500)\n",
    "        ],\n",
    "        'co': [\n",
    "            (0, 4.4, 0, 50),\n",
    "            (4.5, 9.4, 51, 100),\n",
    "            (9.5, 12.4, 101, 150),\n",
    "            (12.5, 15.4, 151, 200),\n",
    "            (15.5, 30.4, 201, 300),\n",
    "            (30.5, 40.4, 301, 400),\n",
    "            (40.5, 50.4, 401, 500)\n",
    "        ],\n",
    "        'o3': [\n",
    "            (0, 54, 0, 50),\n",
    "            (55, 70, 51, 100),\n",
    "            (71, 85, 101, 150),\n",
    "            (86, 105, 151, 200),\n",
    "            (106, 200, 201, 300),\n",
    "            (201, 999, 301, 500)\n",
    "        ]\n",
    "    }\n",
    "    \n",
    "    def calculate_individual_aqi(c_low, c_high, aqi_low, aqi_high, concentration):\n",
    "        \"\"\"Calculate AQI for a single pollutant based on breakpoints.\"\"\"\n",
    "        return ((aqi_high - aqi_low) / (c_high - c_low)) * (concentration - c_low) + aqi_low\n",
    "\n",
    "    def single_pollutant_aqi(pollutant, concentration):\n",
    "        \"\"\"Calculate AQI for a single pollutant.\"\"\"\n",
    "        if np.isnan(concentration):\n",
    "            return np.nan\n",
    "        \n",
    "        for c_low, c_high, aqi_low, aqi_high in aqi_breakpoints[pollutant]:\n",
    "            if c_low <= concentration <= c_high:\n",
    "                return int(round(calculate_individual_aqi(c_low, c_high, aqi_low, aqi_high, concentration)))\n",
    "        \n",
    "        # If concentration exceeds defined range, return the maximum AQI (500)\n",
    "        return 500 if concentration > aqi_breakpoints[pollutant][-1][1] else 0\n",
    "\n",
    "    # Mapping pollutants to their column names\n",
    "    pollutant_columns = {\n",
    "        'pm25': ['PM2.5', 'pm25'],\n",
    "        'pm10': ['PM10', 'pm10'],\n",
    "        'no2': ['NO2', 'no2'],\n",
    "        'so2': ['SO2', 'so2'],\n",
    "        'co': ['CO', 'co'],\n",
    "        'o3': ['O3', 'o3']\n",
    "    }\n",
    "\n",
    "    # Calculate AQI for each pollutant and find the maximum\n",
    "    aqi_list = []\n",
    "    for pollutant, col_names in pollutant_columns.items():\n",
    "        for col_name in col_names:\n",
    "            if col_name in row.index:\n",
    "                aqi = single_pollutant_aqi(pollutant, row[col_name])\n",
    "                if not np.isnan(aqi):\n",
    "                    aqi_list.append(aqi)\n",
    "                break\n",
    "    \n",
    "    # Return the maximum AQI across pollutants\n",
    "    return max(aqi_list) if aqi_list else np.nan\n",
    "\n",
    "# Apply the function to the DataFrame\n",
    "df['US_AQI'] = df.apply(calculate_us_aqi, axis=1)\n"
   ]
  },
  {
   "cell_type": "code",
   "execution_count": 42,
   "metadata": {},
   "outputs": [
    {
     "data": {
      "text/html": [
       "<div>\n",
       "<style scoped>\n",
       "    .dataframe tbody tr th:only-of-type {\n",
       "        vertical-align: middle;\n",
       "    }\n",
       "\n",
       "    .dataframe tbody tr th {\n",
       "        vertical-align: top;\n",
       "    }\n",
       "\n",
       "    .dataframe thead th {\n",
       "        text-align: right;\n",
       "    }\n",
       "</style>\n",
       "<table border=\"1\" class=\"dataframe\">\n",
       "  <thead>\n",
       "    <tr style=\"text-align: right;\">\n",
       "      <th></th>\n",
       "      <th>City</th>\n",
       "      <th>Country</th>\n",
       "      <th>Date</th>\n",
       "      <th>PM2.5</th>\n",
       "      <th>PM10</th>\n",
       "      <th>NO2</th>\n",
       "      <th>SO2</th>\n",
       "      <th>CO</th>\n",
       "      <th>O3</th>\n",
       "      <th>Temperature</th>\n",
       "      <th>Humidity</th>\n",
       "      <th>Wind Speed</th>\n",
       "      <th>US_AQI</th>\n",
       "    </tr>\n",
       "  </thead>\n",
       "  <tbody>\n",
       "    <tr>\n",
       "      <th>0</th>\n",
       "      <td>Bangkok</td>\n",
       "      <td>Thailand</td>\n",
       "      <td>2023-03-19</td>\n",
       "      <td>86.57</td>\n",
       "      <td>25.19</td>\n",
       "      <td>99.88</td>\n",
       "      <td>30.63</td>\n",
       "      <td>4.46</td>\n",
       "      <td>36.29</td>\n",
       "      <td>17.67</td>\n",
       "      <td>59.35</td>\n",
       "      <td>13.76</td>\n",
       "      <td>167</td>\n",
       "    </tr>\n",
       "    <tr>\n",
       "      <th>1</th>\n",
       "      <td>Istanbul</td>\n",
       "      <td>Turkey</td>\n",
       "      <td>2023-02-16</td>\n",
       "      <td>50.63</td>\n",
       "      <td>97.39</td>\n",
       "      <td>48.14</td>\n",
       "      <td>8.71</td>\n",
       "      <td>3.40</td>\n",
       "      <td>144.16</td>\n",
       "      <td>3.46</td>\n",
       "      <td>67.51</td>\n",
       "      <td>6.36</td>\n",
       "      <td>241</td>\n",
       "    </tr>\n",
       "    <tr>\n",
       "      <th>2</th>\n",
       "      <td>Rio de Janeiro</td>\n",
       "      <td>Brazil</td>\n",
       "      <td>2023-11-13</td>\n",
       "      <td>130.21</td>\n",
       "      <td>57.22</td>\n",
       "      <td>98.51</td>\n",
       "      <td>9.92</td>\n",
       "      <td>0.12</td>\n",
       "      <td>179.31</td>\n",
       "      <td>25.29</td>\n",
       "      <td>29.30</td>\n",
       "      <td>12.87</td>\n",
       "      <td>278</td>\n",
       "    </tr>\n",
       "    <tr>\n",
       "      <th>3</th>\n",
       "      <td>Mumbai</td>\n",
       "      <td>India</td>\n",
       "      <td>2023-03-16</td>\n",
       "      <td>119.70</td>\n",
       "      <td>130.52</td>\n",
       "      <td>10.96</td>\n",
       "      <td>33.03</td>\n",
       "      <td>7.74</td>\n",
       "      <td>38.65</td>\n",
       "      <td>23.15</td>\n",
       "      <td>99.97</td>\n",
       "      <td>7.71</td>\n",
       "      <td>184</td>\n",
       "    </tr>\n",
       "    <tr>\n",
       "      <th>4</th>\n",
       "      <td>Paris</td>\n",
       "      <td>France</td>\n",
       "      <td>2023-04-04</td>\n",
       "      <td>55.20</td>\n",
       "      <td>36.62</td>\n",
       "      <td>76.85</td>\n",
       "      <td>21.85</td>\n",
       "      <td>2.00</td>\n",
       "      <td>67.09</td>\n",
       "      <td>16.02</td>\n",
       "      <td>90.28</td>\n",
       "      <td>14.16</td>\n",
       "      <td>150</td>\n",
       "    </tr>\n",
       "  </tbody>\n",
       "</table>\n",
       "</div>"
      ],
      "text/plain": [
       "             City   Country        Date   PM2.5    PM10    NO2    SO2    CO  \\\n",
       "0         Bangkok  Thailand  2023-03-19   86.57   25.19  99.88  30.63  4.46   \n",
       "1        Istanbul    Turkey  2023-02-16   50.63   97.39  48.14   8.71  3.40   \n",
       "2  Rio de Janeiro    Brazil  2023-11-13  130.21   57.22  98.51   9.92  0.12   \n",
       "3          Mumbai     India  2023-03-16  119.70  130.52  10.96  33.03  7.74   \n",
       "4           Paris    France  2023-04-04   55.20   36.62  76.85  21.85  2.00   \n",
       "\n",
       "       O3  Temperature  Humidity  Wind Speed  US_AQI  \n",
       "0   36.29        17.67     59.35       13.76     167  \n",
       "1  144.16         3.46     67.51        6.36     241  \n",
       "2  179.31        25.29     29.30       12.87     278  \n",
       "3   38.65        23.15     99.97        7.71     184  \n",
       "4   67.09        16.02     90.28       14.16     150  "
      ]
     },
     "execution_count": 42,
     "metadata": {},
     "output_type": "execute_result"
    }
   ],
   "source": [
    "df.head(5)"
   ]
  },
  {
   "cell_type": "code",
   "execution_count": 51,
   "metadata": {},
   "outputs": [],
   "source": [
    "# Define seasons based on months\n",
    "def assign_season(month):\n",
    "    if month in [3, 4, 5]:\n",
    "        return 'Spring'\n",
    "    elif month in [6, 7, 8]:\n",
    "        return 'Summer'\n",
    "    elif month in [9, 10, 11]:\n",
    "        return 'Autumn'\n",
    "    else:\n",
    "        return 'Winter'\n",
    "\n",
    "df['Season'] = pd.to_datetime(df['Date']).dt.month.apply(assign_season)\n",
    "\n",
    "# Define continental regions for countries (simplified for example)\n",
    "region_mapping = {\n",
    "    # North America\n",
    "    'USA': 'North America', \n",
    "    'Canada': 'North America', \n",
    "    'Mexico': 'North America',\n",
    "    \n",
    "    # South America\n",
    "    'Brazil': 'South America',\n",
    "    'Argentina': 'South America',\n",
    "\n",
    "    # Europe\n",
    "    'Russia': 'Europe', \n",
    "    'France': 'Europe', \n",
    "    'Germany': 'Europe', \n",
    "    'UK': 'Europe', \n",
    "    'Spain': 'Europe', \n",
    "    'Turkey': 'Europe',\n",
    "    \n",
    "    # Asia\n",
    "    'China': 'Asia', \n",
    "    'India': 'Asia', \n",
    "    'Japan': 'Asia', \n",
    "    'South Korea': 'Asia', \n",
    "    'Thailand': 'Asia', \n",
    "    'UAE': 'Asia',\n",
    "    'Turkey': 'Asia', \n",
    "\n",
    "    # Oceania\n",
    "    'Australia': 'Oceania', \n",
    "    'New Zealand': 'Oceania',\n",
    "\n",
    "    # Africa\n",
    "    'South Africa': 'Africa', \n",
    "    'Egypt': 'Africa',\n",
    "    \n",
    "    # Middle East\n",
    "    'UAE': 'Middle East',\n",
    "    \n",
    "}\n",
    "df['Region'] = df['Country'].map(region_mapping)"
   ]
  },
  {
   "cell_type": "markdown",
   "metadata": {},
   "source": [
    "*Analysis steps:*"
   ]
  },
  {
   "cell_type": "code",
   "execution_count": 111,
   "metadata": {},
   "outputs": [
    {
     "data": {
      "application/vnd.plotly.v1+json": {
       "config": {
        "plotlyServerURL": "https://plot.ly"
       },
       "data": [
        {
         "hovertemplate": "Region=Africa<br>Season=%{x}<br>Average AQI=%{y}<extra></extra>",
         "legendgroup": "Africa",
         "line": {
          "color": "#636efa",
          "dash": "solid",
          "shape": "linear"
         },
         "marker": {
          "symbol": "circle"
         },
         "mode": "lines",
         "name": "Africa",
         "orientation": "v",
         "showlegend": true,
         "type": "scatter",
         "x": [
          "Autumn",
          "Spring",
          "Summer",
          "Winter"
         ],
         "xaxis": "x",
         "y": [
          206.53149606299212,
          207.3796992481203,
          201.22097378277152,
          203.7622950819672
         ],
         "yaxis": "y"
        },
        {
         "hovertemplate": "Region=Asia<br>Season=%{x}<br>Average AQI=%{y}<extra></extra>",
         "legendgroup": "Asia",
         "line": {
          "color": "#EF553B",
          "dash": "solid",
          "shape": "linear"
         },
         "marker": {
          "symbol": "circle"
         },
         "mode": "lines",
         "name": "Asia",
         "orientation": "v",
         "showlegend": true,
         "type": "scatter",
         "x": [
          "Autumn",
          "Spring",
          "Summer",
          "Winter"
         ],
         "xaxis": "x",
         "y": [
          207.77329624478443,
          203.76202860858257,
          202.77948717948718,
          204.65052356020942
         ],
         "yaxis": "y"
        },
        {
         "hovertemplate": "Region=Europe<br>Season=%{x}<br>Average AQI=%{y}<extra></extra>",
         "legendgroup": "Europe",
         "line": {
          "color": "#00cc96",
          "dash": "solid",
          "shape": "linear"
         },
         "marker": {
          "symbol": "circle"
         },
         "mode": "lines",
         "name": "Europe",
         "orientation": "v",
         "showlegend": true,
         "type": "scatter",
         "x": [
          "Autumn",
          "Spring",
          "Summer",
          "Winter"
         ],
         "xaxis": "x",
         "y": [
          202.084142394822,
          204.24394184168014,
          204.61598746081503,
          201.62540192926045
         ],
         "yaxis": "y"
        },
        {
         "hovertemplate": "Region=Middle East<br>Season=%{x}<br>Average AQI=%{y}<extra></extra>",
         "legendgroup": "Middle East",
         "line": {
          "color": "#ab63fa",
          "dash": "solid",
          "shape": "linear"
         },
         "marker": {
          "symbol": "circle"
         },
         "mode": "lines",
         "name": "Middle East",
         "orientation": "v",
         "showlegend": true,
         "type": "scatter",
         "x": [
          "Autumn",
          "Spring",
          "Summer",
          "Winter"
         ],
         "xaxis": "x",
         "y": [
          204.125,
          204.1969696969697,
          202.6293103448276,
          204.13194444444446
         ],
         "yaxis": "y"
        },
        {
         "hovertemplate": "Region=North America<br>Season=%{x}<br>Average AQI=%{y}<extra></extra>",
         "legendgroup": "North America",
         "line": {
          "color": "#FFA15A",
          "dash": "solid",
          "shape": "linear"
         },
         "marker": {
          "symbol": "circle"
         },
         "mode": "lines",
         "name": "North America",
         "orientation": "v",
         "showlegend": true,
         "type": "scatter",
         "x": [
          "Autumn",
          "Spring",
          "Summer",
          "Winter"
         ],
         "xaxis": "x",
         "y": [
          204.6117886178862,
          207.1409001956947,
          206.98709677419356,
          206.54736842105262
         ],
         "yaxis": "y"
        },
        {
         "hovertemplate": "Region=Oceania<br>Season=%{x}<br>Average AQI=%{y}<extra></extra>",
         "legendgroup": "Oceania",
         "line": {
          "color": "#19d3f3",
          "dash": "solid",
          "shape": "linear"
         },
         "marker": {
          "symbol": "circle"
         },
         "mode": "lines",
         "name": "Oceania",
         "orientation": "v",
         "showlegend": true,
         "type": "scatter",
         "x": [
          "Autumn",
          "Spring",
          "Summer",
          "Winter"
         ],
         "xaxis": "x",
         "y": [
          207.096,
          199.7923076923077,
          209.77777777777777,
          205.7719298245614
         ],
         "yaxis": "y"
        },
        {
         "hovertemplate": "Region=South America<br>Season=%{x}<br>Average AQI=%{y}<extra></extra>",
         "legendgroup": "South America",
         "line": {
          "color": "#FF6692",
          "dash": "solid",
          "shape": "linear"
         },
         "marker": {
          "symbol": "circle"
         },
         "mode": "lines",
         "name": "South America",
         "orientation": "v",
         "showlegend": true,
         "type": "scatter",
         "x": [
          "Autumn",
          "Spring",
          "Summer",
          "Winter"
         ],
         "xaxis": "x",
         "y": [
          209.48818897637796,
          199.54032258064515,
          198.0514705882353,
          215.1153846153846
         ],
         "yaxis": "y"
        }
       ],
       "layout": {
        "legend": {
         "title": {
          "text": "Region"
         },
         "tracegroupgap": 0
        },
        "template": {
         "data": {
          "bar": [
           {
            "error_x": {
             "color": "#2a3f5f"
            },
            "error_y": {
             "color": "#2a3f5f"
            },
            "marker": {
             "line": {
              "color": "#E5ECF6",
              "width": 0.5
             },
             "pattern": {
              "fillmode": "overlay",
              "size": 10,
              "solidity": 0.2
             }
            },
            "type": "bar"
           }
          ],
          "barpolar": [
           {
            "marker": {
             "line": {
              "color": "#E5ECF6",
              "width": 0.5
             },
             "pattern": {
              "fillmode": "overlay",
              "size": 10,
              "solidity": 0.2
             }
            },
            "type": "barpolar"
           }
          ],
          "carpet": [
           {
            "aaxis": {
             "endlinecolor": "#2a3f5f",
             "gridcolor": "white",
             "linecolor": "white",
             "minorgridcolor": "white",
             "startlinecolor": "#2a3f5f"
            },
            "baxis": {
             "endlinecolor": "#2a3f5f",
             "gridcolor": "white",
             "linecolor": "white",
             "minorgridcolor": "white",
             "startlinecolor": "#2a3f5f"
            },
            "type": "carpet"
           }
          ],
          "choropleth": [
           {
            "colorbar": {
             "outlinewidth": 0,
             "ticks": ""
            },
            "type": "choropleth"
           }
          ],
          "contour": [
           {
            "colorbar": {
             "outlinewidth": 0,
             "ticks": ""
            },
            "colorscale": [
             [
              0,
              "#0d0887"
             ],
             [
              0.1111111111111111,
              "#46039f"
             ],
             [
              0.2222222222222222,
              "#7201a8"
             ],
             [
              0.3333333333333333,
              "#9c179e"
             ],
             [
              0.4444444444444444,
              "#bd3786"
             ],
             [
              0.5555555555555556,
              "#d8576b"
             ],
             [
              0.6666666666666666,
              "#ed7953"
             ],
             [
              0.7777777777777778,
              "#fb9f3a"
             ],
             [
              0.8888888888888888,
              "#fdca26"
             ],
             [
              1,
              "#f0f921"
             ]
            ],
            "type": "contour"
           }
          ],
          "contourcarpet": [
           {
            "colorbar": {
             "outlinewidth": 0,
             "ticks": ""
            },
            "type": "contourcarpet"
           }
          ],
          "heatmap": [
           {
            "colorbar": {
             "outlinewidth": 0,
             "ticks": ""
            },
            "colorscale": [
             [
              0,
              "#0d0887"
             ],
             [
              0.1111111111111111,
              "#46039f"
             ],
             [
              0.2222222222222222,
              "#7201a8"
             ],
             [
              0.3333333333333333,
              "#9c179e"
             ],
             [
              0.4444444444444444,
              "#bd3786"
             ],
             [
              0.5555555555555556,
              "#d8576b"
             ],
             [
              0.6666666666666666,
              "#ed7953"
             ],
             [
              0.7777777777777778,
              "#fb9f3a"
             ],
             [
              0.8888888888888888,
              "#fdca26"
             ],
             [
              1,
              "#f0f921"
             ]
            ],
            "type": "heatmap"
           }
          ],
          "heatmapgl": [
           {
            "colorbar": {
             "outlinewidth": 0,
             "ticks": ""
            },
            "colorscale": [
             [
              0,
              "#0d0887"
             ],
             [
              0.1111111111111111,
              "#46039f"
             ],
             [
              0.2222222222222222,
              "#7201a8"
             ],
             [
              0.3333333333333333,
              "#9c179e"
             ],
             [
              0.4444444444444444,
              "#bd3786"
             ],
             [
              0.5555555555555556,
              "#d8576b"
             ],
             [
              0.6666666666666666,
              "#ed7953"
             ],
             [
              0.7777777777777778,
              "#fb9f3a"
             ],
             [
              0.8888888888888888,
              "#fdca26"
             ],
             [
              1,
              "#f0f921"
             ]
            ],
            "type": "heatmapgl"
           }
          ],
          "histogram": [
           {
            "marker": {
             "pattern": {
              "fillmode": "overlay",
              "size": 10,
              "solidity": 0.2
             }
            },
            "type": "histogram"
           }
          ],
          "histogram2d": [
           {
            "colorbar": {
             "outlinewidth": 0,
             "ticks": ""
            },
            "colorscale": [
             [
              0,
              "#0d0887"
             ],
             [
              0.1111111111111111,
              "#46039f"
             ],
             [
              0.2222222222222222,
              "#7201a8"
             ],
             [
              0.3333333333333333,
              "#9c179e"
             ],
             [
              0.4444444444444444,
              "#bd3786"
             ],
             [
              0.5555555555555556,
              "#d8576b"
             ],
             [
              0.6666666666666666,
              "#ed7953"
             ],
             [
              0.7777777777777778,
              "#fb9f3a"
             ],
             [
              0.8888888888888888,
              "#fdca26"
             ],
             [
              1,
              "#f0f921"
             ]
            ],
            "type": "histogram2d"
           }
          ],
          "histogram2dcontour": [
           {
            "colorbar": {
             "outlinewidth": 0,
             "ticks": ""
            },
            "colorscale": [
             [
              0,
              "#0d0887"
             ],
             [
              0.1111111111111111,
              "#46039f"
             ],
             [
              0.2222222222222222,
              "#7201a8"
             ],
             [
              0.3333333333333333,
              "#9c179e"
             ],
             [
              0.4444444444444444,
              "#bd3786"
             ],
             [
              0.5555555555555556,
              "#d8576b"
             ],
             [
              0.6666666666666666,
              "#ed7953"
             ],
             [
              0.7777777777777778,
              "#fb9f3a"
             ],
             [
              0.8888888888888888,
              "#fdca26"
             ],
             [
              1,
              "#f0f921"
             ]
            ],
            "type": "histogram2dcontour"
           }
          ],
          "mesh3d": [
           {
            "colorbar": {
             "outlinewidth": 0,
             "ticks": ""
            },
            "type": "mesh3d"
           }
          ],
          "parcoords": [
           {
            "line": {
             "colorbar": {
              "outlinewidth": 0,
              "ticks": ""
             }
            },
            "type": "parcoords"
           }
          ],
          "pie": [
           {
            "automargin": true,
            "type": "pie"
           }
          ],
          "scatter": [
           {
            "fillpattern": {
             "fillmode": "overlay",
             "size": 10,
             "solidity": 0.2
            },
            "type": "scatter"
           }
          ],
          "scatter3d": [
           {
            "line": {
             "colorbar": {
              "outlinewidth": 0,
              "ticks": ""
             }
            },
            "marker": {
             "colorbar": {
              "outlinewidth": 0,
              "ticks": ""
             }
            },
            "type": "scatter3d"
           }
          ],
          "scattercarpet": [
           {
            "marker": {
             "colorbar": {
              "outlinewidth": 0,
              "ticks": ""
             }
            },
            "type": "scattercarpet"
           }
          ],
          "scattergeo": [
           {
            "marker": {
             "colorbar": {
              "outlinewidth": 0,
              "ticks": ""
             }
            },
            "type": "scattergeo"
           }
          ],
          "scattergl": [
           {
            "marker": {
             "colorbar": {
              "outlinewidth": 0,
              "ticks": ""
             }
            },
            "type": "scattergl"
           }
          ],
          "scattermapbox": [
           {
            "marker": {
             "colorbar": {
              "outlinewidth": 0,
              "ticks": ""
             }
            },
            "type": "scattermapbox"
           }
          ],
          "scatterpolar": [
           {
            "marker": {
             "colorbar": {
              "outlinewidth": 0,
              "ticks": ""
             }
            },
            "type": "scatterpolar"
           }
          ],
          "scatterpolargl": [
           {
            "marker": {
             "colorbar": {
              "outlinewidth": 0,
              "ticks": ""
             }
            },
            "type": "scatterpolargl"
           }
          ],
          "scatterternary": [
           {
            "marker": {
             "colorbar": {
              "outlinewidth": 0,
              "ticks": ""
             }
            },
            "type": "scatterternary"
           }
          ],
          "surface": [
           {
            "colorbar": {
             "outlinewidth": 0,
             "ticks": ""
            },
            "colorscale": [
             [
              0,
              "#0d0887"
             ],
             [
              0.1111111111111111,
              "#46039f"
             ],
             [
              0.2222222222222222,
              "#7201a8"
             ],
             [
              0.3333333333333333,
              "#9c179e"
             ],
             [
              0.4444444444444444,
              "#bd3786"
             ],
             [
              0.5555555555555556,
              "#d8576b"
             ],
             [
              0.6666666666666666,
              "#ed7953"
             ],
             [
              0.7777777777777778,
              "#fb9f3a"
             ],
             [
              0.8888888888888888,
              "#fdca26"
             ],
             [
              1,
              "#f0f921"
             ]
            ],
            "type": "surface"
           }
          ],
          "table": [
           {
            "cells": {
             "fill": {
              "color": "#EBF0F8"
             },
             "line": {
              "color": "white"
             }
            },
            "header": {
             "fill": {
              "color": "#C8D4E3"
             },
             "line": {
              "color": "white"
             }
            },
            "type": "table"
           }
          ]
         },
         "layout": {
          "annotationdefaults": {
           "arrowcolor": "#2a3f5f",
           "arrowhead": 0,
           "arrowwidth": 1
          },
          "autotypenumbers": "strict",
          "coloraxis": {
           "colorbar": {
            "outlinewidth": 0,
            "ticks": ""
           }
          },
          "colorscale": {
           "diverging": [
            [
             0,
             "#8e0152"
            ],
            [
             0.1,
             "#c51b7d"
            ],
            [
             0.2,
             "#de77ae"
            ],
            [
             0.3,
             "#f1b6da"
            ],
            [
             0.4,
             "#fde0ef"
            ],
            [
             0.5,
             "#f7f7f7"
            ],
            [
             0.6,
             "#e6f5d0"
            ],
            [
             0.7,
             "#b8e186"
            ],
            [
             0.8,
             "#7fbc41"
            ],
            [
             0.9,
             "#4d9221"
            ],
            [
             1,
             "#276419"
            ]
           ],
           "sequential": [
            [
             0,
             "#0d0887"
            ],
            [
             0.1111111111111111,
             "#46039f"
            ],
            [
             0.2222222222222222,
             "#7201a8"
            ],
            [
             0.3333333333333333,
             "#9c179e"
            ],
            [
             0.4444444444444444,
             "#bd3786"
            ],
            [
             0.5555555555555556,
             "#d8576b"
            ],
            [
             0.6666666666666666,
             "#ed7953"
            ],
            [
             0.7777777777777778,
             "#fb9f3a"
            ],
            [
             0.8888888888888888,
             "#fdca26"
            ],
            [
             1,
             "#f0f921"
            ]
           ],
           "sequentialminus": [
            [
             0,
             "#0d0887"
            ],
            [
             0.1111111111111111,
             "#46039f"
            ],
            [
             0.2222222222222222,
             "#7201a8"
            ],
            [
             0.3333333333333333,
             "#9c179e"
            ],
            [
             0.4444444444444444,
             "#bd3786"
            ],
            [
             0.5555555555555556,
             "#d8576b"
            ],
            [
             0.6666666666666666,
             "#ed7953"
            ],
            [
             0.7777777777777778,
             "#fb9f3a"
            ],
            [
             0.8888888888888888,
             "#fdca26"
            ],
            [
             1,
             "#f0f921"
            ]
           ]
          },
          "colorway": [
           "#636efa",
           "#EF553B",
           "#00cc96",
           "#ab63fa",
           "#FFA15A",
           "#19d3f3",
           "#FF6692",
           "#B6E880",
           "#FF97FF",
           "#FECB52"
          ],
          "font": {
           "color": "#2a3f5f"
          },
          "geo": {
           "bgcolor": "white",
           "lakecolor": "white",
           "landcolor": "#E5ECF6",
           "showlakes": true,
           "showland": true,
           "subunitcolor": "white"
          },
          "hoverlabel": {
           "align": "left"
          },
          "hovermode": "closest",
          "mapbox": {
           "style": "light"
          },
          "paper_bgcolor": "white",
          "plot_bgcolor": "#E5ECF6",
          "polar": {
           "angularaxis": {
            "gridcolor": "white",
            "linecolor": "white",
            "ticks": ""
           },
           "bgcolor": "#E5ECF6",
           "radialaxis": {
            "gridcolor": "white",
            "linecolor": "white",
            "ticks": ""
           }
          },
          "scene": {
           "xaxis": {
            "backgroundcolor": "#E5ECF6",
            "gridcolor": "white",
            "gridwidth": 2,
            "linecolor": "white",
            "showbackground": true,
            "ticks": "",
            "zerolinecolor": "white"
           },
           "yaxis": {
            "backgroundcolor": "#E5ECF6",
            "gridcolor": "white",
            "gridwidth": 2,
            "linecolor": "white",
            "showbackground": true,
            "ticks": "",
            "zerolinecolor": "white"
           },
           "zaxis": {
            "backgroundcolor": "#E5ECF6",
            "gridcolor": "white",
            "gridwidth": 2,
            "linecolor": "white",
            "showbackground": true,
            "ticks": "",
            "zerolinecolor": "white"
           }
          },
          "shapedefaults": {
           "line": {
            "color": "#2a3f5f"
           }
          },
          "ternary": {
           "aaxis": {
            "gridcolor": "white",
            "linecolor": "white",
            "ticks": ""
           },
           "baxis": {
            "gridcolor": "white",
            "linecolor": "white",
            "ticks": ""
           },
           "bgcolor": "#E5ECF6",
           "caxis": {
            "gridcolor": "white",
            "linecolor": "white",
            "ticks": ""
           }
          },
          "title": {
           "x": 0.05
          },
          "xaxis": {
           "automargin": true,
           "gridcolor": "white",
           "linecolor": "white",
           "ticks": "",
           "title": {
            "standoff": 15
           },
           "zerolinecolor": "white",
           "zerolinewidth": 2
          },
          "yaxis": {
           "automargin": true,
           "gridcolor": "white",
           "linecolor": "white",
           "ticks": "",
           "title": {
            "standoff": 15
           },
           "zerolinecolor": "white",
           "zerolinewidth": 2
          }
         }
        },
        "title": {
         "text": "Seasonal AQI Trends Across Regions"
        },
        "xaxis": {
         "anchor": "y",
         "domain": [
          0,
          1
         ],
         "title": {
          "text": "Season"
         }
        },
        "yaxis": {
         "anchor": "x",
         "domain": [
          0,
          1
         ],
         "title": {
          "text": "Average AQI"
         }
        }
       }
      }
     },
     "metadata": {},
     "output_type": "display_data"
    }
   ],
   "source": [
    "# Step 3: Calculate average AQI by season and region\n",
    "seasonal_aqi = df.groupby(['Season', 'Region'])['US_AQI'].mean().reset_index()\n",
    "\n",
    "# Step 4: Visualize AQI trends across seasons for different regions\n",
    "fig_line = px.line(seasonal_aqi, \n",
    "                   x='Season', \n",
    "                   y='US_AQI', \n",
    "                   color='Region',\n",
    "                   title='Seasonal AQI Trends Across Regions',\n",
    "                   labels={'US_AQI': 'Average AQI', 'Season': 'Season'},\n",
    "                   line_shape='linear')\n",
    "fig_line.show()"
   ]
  },
  {
   "cell_type": "code",
   "execution_count": 112,
   "metadata": {},
   "outputs": [
    {
     "data": {
      "application/vnd.plotly.v1+json": {
       "config": {
        "plotlyServerURL": "https://plot.ly"
       },
       "data": [
        {
         "alignmentgroup": "True",
         "hovertemplate": "Pollutant=PM2.5<br>Region=Africa<br>Season=%{x}<br>Average Pollutant Level (µg/m³)=%{y}<extra></extra>",
         "legendgroup": "PM2.5",
         "marker": {
          "color": "#636efa",
          "pattern": {
           "shape": ""
          }
         },
         "name": "PM2.5",
         "offsetgroup": "PM2.5",
         "orientation": "v",
         "showlegend": true,
         "textposition": "auto",
         "type": "bar",
         "x": [
          "Autumn",
          "Spring",
          "Summer",
          "Winter"
         ],
         "xaxis": "x",
         "y": [
          78.06704724409448,
          77.35041353383458,
          73.23771535580525,
          80.8130737704918
         ],
         "yaxis": "y"
        },
        {
         "alignmentgroup": "True",
         "hovertemplate": "Pollutant=PM2.5<br>Region=Asia<br>Season=%{x}<br>Average Pollutant Level (µg/m³)=%{y}<extra></extra>",
         "legendgroup": "PM2.5",
         "marker": {
          "color": "#636efa",
          "pattern": {
           "shape": ""
          }
         },
         "name": "PM2.5",
         "offsetgroup": "PM2.5",
         "orientation": "v",
         "showlegend": false,
         "textposition": "auto",
         "type": "bar",
         "x": [
          "Autumn",
          "Spring",
          "Summer",
          "Winter"
         ],
         "xaxis": "x2",
         "y": [
          76.40172461752435,
          75.74633289986996,
          78.75214102564102,
          79.87774869109947
         ],
         "yaxis": "y2"
        },
        {
         "alignmentgroup": "True",
         "hovertemplate": "Pollutant=PM2.5<br>Region=Europe<br>Season=%{x}<br>Average Pollutant Level (µg/m³)=%{y}<extra></extra>",
         "legendgroup": "PM2.5",
         "marker": {
          "color": "#636efa",
          "pattern": {
           "shape": ""
          }
         },
         "name": "PM2.5",
         "offsetgroup": "PM2.5",
         "orientation": "v",
         "showlegend": false,
         "textposition": "auto",
         "type": "bar",
         "x": [
          "Autumn",
          "Spring",
          "Summer",
          "Winter"
         ],
         "xaxis": "x3",
         "y": [
          75.75174757281553,
          77.03058158319871,
          78.33398119122258,
          74.86836012861737
         ],
         "yaxis": "y3"
        },
        {
         "alignmentgroup": "True",
         "hovertemplate": "Pollutant=PM2.5<br>Region=Middle East<br>Season=%{x}<br>Average Pollutant Level (µg/m³)=%{y}<extra></extra>",
         "legendgroup": "PM2.5",
         "marker": {
          "color": "#636efa",
          "pattern": {
           "shape": ""
          }
         },
         "name": "PM2.5",
         "offsetgroup": "PM2.5",
         "orientation": "v",
         "showlegend": false,
         "textposition": "auto",
         "type": "bar",
         "x": [
          "Autumn",
          "Spring",
          "Summer",
          "Winter"
         ],
         "xaxis": "x4",
         "y": [
          84.56796875,
          79.08863636363637,
          84.09758620689655,
          73.52361111111111
         ],
         "yaxis": "y4"
        },
        {
         "alignmentgroup": "True",
         "hovertemplate": "Pollutant=PM2.5<br>Region=North America<br>Season=%{x}<br>Average Pollutant Level (µg/m³)=%{y}<extra></extra>",
         "legendgroup": "PM2.5",
         "marker": {
          "color": "#636efa",
          "pattern": {
           "shape": ""
          }
         },
         "name": "PM2.5",
         "offsetgroup": "PM2.5",
         "orientation": "v",
         "showlegend": false,
         "textposition": "auto",
         "type": "bar",
         "x": [
          "Autumn",
          "Spring",
          "Summer",
          "Winter"
         ],
         "xaxis": "x5",
         "y": [
          76.35987804878049,
          78.97800391389433,
          76.16698924731183,
          79.29157894736842
         ],
         "yaxis": "y5"
        },
        {
         "alignmentgroup": "True",
         "hovertemplate": "Pollutant=PM2.5<br>Region=Oceania<br>Season=%{x}<br>Average Pollutant Level (µg/m³)=%{y}<extra></extra>",
         "legendgroup": "PM2.5",
         "marker": {
          "color": "#636efa",
          "pattern": {
           "shape": ""
          }
         },
         "name": "PM2.5",
         "offsetgroup": "PM2.5",
         "orientation": "v",
         "showlegend": false,
         "textposition": "auto",
         "type": "bar",
         "x": [
          "Autumn",
          "Spring",
          "Summer",
          "Winter"
         ],
         "xaxis": "x6",
         "y": [
          79.59384,
          82.26884615384616,
          74.32948717948717,
          79.13140350877192
         ],
         "yaxis": "y6"
        },
        {
         "alignmentgroup": "True",
         "hovertemplate": "Pollutant=PM2.5<br>Region=South America<br>Season=%{x}<br>Average Pollutant Level (µg/m³)=%{y}<extra></extra>",
         "legendgroup": "PM2.5",
         "marker": {
          "color": "#636efa",
          "pattern": {
           "shape": ""
          }
         },
         "name": "PM2.5",
         "offsetgroup": "PM2.5",
         "orientation": "v",
         "showlegend": false,
         "textposition": "auto",
         "type": "bar",
         "x": [
          "Autumn",
          "Spring",
          "Summer",
          "Winter"
         ],
         "xaxis": "x7",
         "y": [
          74.44188976377953,
          73.19806451612902,
          75.78904411764705,
          79.95913461538461
         ],
         "yaxis": "y7"
        },
        {
         "alignmentgroup": "True",
         "hovertemplate": "Pollutant=PM10<br>Region=Africa<br>Season=%{x}<br>Average Pollutant Level (µg/m³)=%{y}<extra></extra>",
         "legendgroup": "PM10",
         "marker": {
          "color": "#EF553B",
          "pattern": {
           "shape": ""
          }
         },
         "name": "PM10",
         "offsetgroup": "PM10",
         "orientation": "v",
         "showlegend": true,
         "textposition": "auto",
         "type": "bar",
         "x": [
          "Autumn",
          "Spring",
          "Summer",
          "Winter"
         ],
         "xaxis": "x",
         "y": [
          111.37125984251968,
          107.96593984962405,
          100.84865168539326,
          95.75454918032787
         ],
         "yaxis": "y"
        },
        {
         "alignmentgroup": "True",
         "hovertemplate": "Pollutant=PM10<br>Region=Asia<br>Season=%{x}<br>Average Pollutant Level (µg/m³)=%{y}<extra></extra>",
         "legendgroup": "PM10",
         "marker": {
          "color": "#EF553B",
          "pattern": {
           "shape": ""
          }
         },
         "name": "PM10",
         "offsetgroup": "PM10",
         "orientation": "v",
         "showlegend": false,
         "textposition": "auto",
         "type": "bar",
         "x": [
          "Autumn",
          "Spring",
          "Summer",
          "Winter"
         ],
         "xaxis": "x2",
         "y": [
          101.64892906815021,
          106.28781534460339,
          104.34912820512821,
          105.0910602094241
         ],
         "yaxis": "y2"
        },
        {
         "alignmentgroup": "True",
         "hovertemplate": "Pollutant=PM10<br>Region=Europe<br>Season=%{x}<br>Average Pollutant Level (µg/m³)=%{y}<extra></extra>",
         "legendgroup": "PM10",
         "marker": {
          "color": "#EF553B",
          "pattern": {
           "shape": ""
          }
         },
         "name": "PM10",
         "offsetgroup": "PM10",
         "orientation": "v",
         "showlegend": false,
         "textposition": "auto",
         "type": "bar",
         "x": [
          "Autumn",
          "Spring",
          "Summer",
          "Winter"
         ],
         "xaxis": "x3",
         "y": [
          106.59322006472492,
          103.61726978998384,
          107.03067398119123,
          102.44762057877813
         ],
         "yaxis": "y3"
        },
        {
         "alignmentgroup": "True",
         "hovertemplate": "Pollutant=PM10<br>Region=Middle East<br>Season=%{x}<br>Average Pollutant Level (µg/m³)=%{y}<extra></extra>",
         "legendgroup": "PM10",
         "marker": {
          "color": "#EF553B",
          "pattern": {
           "shape": ""
          }
         },
         "name": "PM10",
         "offsetgroup": "PM10",
         "orientation": "v",
         "showlegend": false,
         "textposition": "auto",
         "type": "bar",
         "x": [
          "Autumn",
          "Spring",
          "Summer",
          "Winter"
         ],
         "xaxis": "x4",
         "y": [
          102.574765625,
          104.99795454545455,
          98.20379310344828,
          108.62833333333333
         ],
         "yaxis": "y4"
        },
        {
         "alignmentgroup": "True",
         "hovertemplate": "Pollutant=PM10<br>Region=North America<br>Season=%{x}<br>Average Pollutant Level (µg/m³)=%{y}<extra></extra>",
         "legendgroup": "PM10",
         "marker": {
          "color": "#EF553B",
          "pattern": {
           "shape": ""
          }
         },
         "name": "PM10",
         "offsetgroup": "PM10",
         "orientation": "v",
         "showlegend": false,
         "textposition": "auto",
         "type": "bar",
         "x": [
          "Autumn",
          "Spring",
          "Summer",
          "Winter"
         ],
         "xaxis": "x5",
         "y": [
          109.04945121951219,
          101.49915851272016,
          101.67187096774194,
          104.69206315789474
         ],
         "yaxis": "y5"
        },
        {
         "alignmentgroup": "True",
         "hovertemplate": "Pollutant=PM10<br>Region=Oceania<br>Season=%{x}<br>Average Pollutant Level (µg/m³)=%{y}<extra></extra>",
         "legendgroup": "PM10",
         "marker": {
          "color": "#EF553B",
          "pattern": {
           "shape": ""
          }
         },
         "name": "PM10",
         "offsetgroup": "PM10",
         "orientation": "v",
         "showlegend": false,
         "textposition": "auto",
         "type": "bar",
         "x": [
          "Autumn",
          "Spring",
          "Summer",
          "Winter"
         ],
         "xaxis": "x6",
         "y": [
          102.88104,
          100.97315384615385,
          98.63905982905983,
          111.51166666666667
         ],
         "yaxis": "y6"
        },
        {
         "alignmentgroup": "True",
         "hovertemplate": "Pollutant=PM10<br>Region=South America<br>Season=%{x}<br>Average Pollutant Level (µg/m³)=%{y}<extra></extra>",
         "legendgroup": "PM10",
         "marker": {
          "color": "#EF553B",
          "pattern": {
           "shape": ""
          }
         },
         "name": "PM10",
         "offsetgroup": "PM10",
         "orientation": "v",
         "showlegend": false,
         "textposition": "auto",
         "type": "bar",
         "x": [
          "Autumn",
          "Spring",
          "Summer",
          "Winter"
         ],
         "xaxis": "x7",
         "y": [
          105.09330708661417,
          105.01903225806453,
          101.00941176470589,
          112.16326923076923
         ],
         "yaxis": "y7"
        },
        {
         "alignmentgroup": "True",
         "hovertemplate": "Pollutant=NO2<br>Region=Africa<br>Season=%{x}<br>Average Pollutant Level (µg/m³)=%{y}<extra></extra>",
         "legendgroup": "NO2",
         "marker": {
          "color": "#00cc96",
          "pattern": {
           "shape": ""
          }
         },
         "name": "NO2",
         "offsetgroup": "NO2",
         "orientation": "v",
         "showlegend": true,
         "textposition": "auto",
         "type": "bar",
         "x": [
          "Autumn",
          "Spring",
          "Summer",
          "Winter"
         ],
         "xaxis": "x",
         "y": [
          52.5405905511811,
          52.12304511278195,
          52.50074906367041,
          49.13967213114754
         ],
         "yaxis": "y"
        },
        {
         "alignmentgroup": "True",
         "hovertemplate": "Pollutant=NO2<br>Region=Asia<br>Season=%{x}<br>Average Pollutant Level (µg/m³)=%{y}<extra></extra>",
         "legendgroup": "NO2",
         "marker": {
          "color": "#00cc96",
          "pattern": {
           "shape": ""
          }
         },
         "name": "NO2",
         "offsetgroup": "NO2",
         "orientation": "v",
         "showlegend": false,
         "textposition": "auto",
         "type": "bar",
         "x": [
          "Autumn",
          "Spring",
          "Summer",
          "Winter"
         ],
         "xaxis": "x2",
         "y": [
          51.08168289290682,
          53.29576072821847,
          52.01757692307692,
          52.29414921465969
         ],
         "yaxis": "y2"
        },
        {
         "alignmentgroup": "True",
         "hovertemplate": "Pollutant=NO2<br>Region=Europe<br>Season=%{x}<br>Average Pollutant Level (µg/m³)=%{y}<extra></extra>",
         "legendgroup": "NO2",
         "marker": {
          "color": "#00cc96",
          "pattern": {
           "shape": ""
          }
         },
         "name": "NO2",
         "offsetgroup": "NO2",
         "orientation": "v",
         "showlegend": false,
         "textposition": "auto",
         "type": "bar",
         "x": [
          "Autumn",
          "Spring",
          "Summer",
          "Winter"
         ],
         "xaxis": "x3",
         "y": [
          53.511925566343045,
          50.98599353796446,
          52.7173354231975,
          53.40469453376206
         ],
         "yaxis": "y3"
        },
        {
         "alignmentgroup": "True",
         "hovertemplate": "Pollutant=NO2<br>Region=Middle East<br>Season=%{x}<br>Average Pollutant Level (µg/m³)=%{y}<extra></extra>",
         "legendgroup": "NO2",
         "marker": {
          "color": "#00cc96",
          "pattern": {
           "shape": ""
          }
         },
         "name": "NO2",
         "offsetgroup": "NO2",
         "orientation": "v",
         "showlegend": false,
         "textposition": "auto",
         "type": "bar",
         "x": [
          "Autumn",
          "Spring",
          "Summer",
          "Winter"
         ],
         "xaxis": "x4",
         "y": [
          53.88203125,
          55.31681818181818,
          50.60060344827586,
          50.88048611111111
         ],
         "yaxis": "y4"
        },
        {
         "alignmentgroup": "True",
         "hovertemplate": "Pollutant=NO2<br>Region=North America<br>Season=%{x}<br>Average Pollutant Level (µg/m³)=%{y}<extra></extra>",
         "legendgroup": "NO2",
         "marker": {
          "color": "#00cc96",
          "pattern": {
           "shape": ""
          }
         },
         "name": "NO2",
         "offsetgroup": "NO2",
         "orientation": "v",
         "showlegend": false,
         "textposition": "auto",
         "type": "bar",
         "x": [
          "Autumn",
          "Spring",
          "Summer",
          "Winter"
         ],
         "xaxis": "x5",
         "y": [
          50.89609756097561,
          52.04238747553816,
          50.85410752688172,
          53.232063157894736
         ],
         "yaxis": "y5"
        },
        {
         "alignmentgroup": "True",
         "hovertemplate": "Pollutant=NO2<br>Region=Oceania<br>Season=%{x}<br>Average Pollutant Level (µg/m³)=%{y}<extra></extra>",
         "legendgroup": "NO2",
         "marker": {
          "color": "#00cc96",
          "pattern": {
           "shape": ""
          }
         },
         "name": "NO2",
         "offsetgroup": "NO2",
         "orientation": "v",
         "showlegend": false,
         "textposition": "auto",
         "type": "bar",
         "x": [
          "Autumn",
          "Spring",
          "Summer",
          "Winter"
         ],
         "xaxis": "x6",
         "y": [
          48.95352,
          54.629615384615384,
          53.54102564102564,
          52.784912280701754
         ],
         "yaxis": "y6"
        },
        {
         "alignmentgroup": "True",
         "hovertemplate": "Pollutant=NO2<br>Region=South America<br>Season=%{x}<br>Average Pollutant Level (µg/m³)=%{y}<extra></extra>",
         "legendgroup": "NO2",
         "marker": {
          "color": "#00cc96",
          "pattern": {
           "shape": ""
          }
         },
         "name": "NO2",
         "offsetgroup": "NO2",
         "orientation": "v",
         "showlegend": false,
         "textposition": "auto",
         "type": "bar",
         "x": [
          "Autumn",
          "Spring",
          "Summer",
          "Winter"
         ],
         "xaxis": "x7",
         "y": [
          51.55417322834646,
          51.47266129032258,
          52.386544117647055,
          53.15855769230769
         ],
         "yaxis": "y7"
        },
        {
         "alignmentgroup": "True",
         "hovertemplate": "Pollutant=SO2<br>Region=Africa<br>Season=%{x}<br>Average Pollutant Level (µg/m³)=%{y}<extra></extra>",
         "legendgroup": "SO2",
         "marker": {
          "color": "#ab63fa",
          "pattern": {
           "shape": ""
          }
         },
         "name": "SO2",
         "offsetgroup": "SO2",
         "orientation": "v",
         "showlegend": true,
         "textposition": "auto",
         "type": "bar",
         "x": [
          "Autumn",
          "Spring",
          "Summer",
          "Winter"
         ],
         "xaxis": "x",
         "y": [
          24.617952755905513,
          24.5043984962406,
          25.396666666666665,
          24.783032786885247
         ],
         "yaxis": "y"
        },
        {
         "alignmentgroup": "True",
         "hovertemplate": "Pollutant=SO2<br>Region=Asia<br>Season=%{x}<br>Average Pollutant Level (µg/m³)=%{y}<extra></extra>",
         "legendgroup": "SO2",
         "marker": {
          "color": "#ab63fa",
          "pattern": {
           "shape": ""
          }
         },
         "name": "SO2",
         "offsetgroup": "SO2",
         "orientation": "v",
         "showlegend": false,
         "textposition": "auto",
         "type": "bar",
         "x": [
          "Autumn",
          "Spring",
          "Summer",
          "Winter"
         ],
         "xaxis": "x2",
         "y": [
          26.131265646731574,
          27.313797139141744,
          24.745858974358974,
          24.61933246073298
         ],
         "yaxis": "y2"
        },
        {
         "alignmentgroup": "True",
         "hovertemplate": "Pollutant=SO2<br>Region=Europe<br>Season=%{x}<br>Average Pollutant Level (µg/m³)=%{y}<extra></extra>",
         "legendgroup": "SO2",
         "marker": {
          "color": "#ab63fa",
          "pattern": {
           "shape": ""
          }
         },
         "name": "SO2",
         "offsetgroup": "SO2",
         "orientation": "v",
         "showlegend": false,
         "textposition": "auto",
         "type": "bar",
         "x": [
          "Autumn",
          "Spring",
          "Summer",
          "Winter"
         ],
         "xaxis": "x3",
         "y": [
          26.10108414239482,
          24.40038772213247,
          25.71029780564263,
          24.40209003215434
         ],
         "yaxis": "y3"
        },
        {
         "alignmentgroup": "True",
         "hovertemplate": "Pollutant=SO2<br>Region=Middle East<br>Season=%{x}<br>Average Pollutant Level (µg/m³)=%{y}<extra></extra>",
         "legendgroup": "SO2",
         "marker": {
          "color": "#ab63fa",
          "pattern": {
           "shape": ""
          }
         },
         "name": "SO2",
         "offsetgroup": "SO2",
         "orientation": "v",
         "showlegend": false,
         "textposition": "auto",
         "type": "bar",
         "x": [
          "Autumn",
          "Spring",
          "Summer",
          "Winter"
         ],
         "xaxis": "x4",
         "y": [
          25.28875,
          25.19340909090909,
          25.052241379310345,
          24.394305555555555
         ],
         "yaxis": "y4"
        },
        {
         "alignmentgroup": "True",
         "hovertemplate": "Pollutant=SO2<br>Region=North America<br>Season=%{x}<br>Average Pollutant Level (µg/m³)=%{y}<extra></extra>",
         "legendgroup": "SO2",
         "marker": {
          "color": "#ab63fa",
          "pattern": {
           "shape": ""
          }
         },
         "name": "SO2",
         "offsetgroup": "SO2",
         "orientation": "v",
         "showlegend": false,
         "textposition": "auto",
         "type": "bar",
         "x": [
          "Autumn",
          "Spring",
          "Summer",
          "Winter"
         ],
         "xaxis": "x5",
         "y": [
          25.34900406504065,
          25.138336594911937,
          25.513354838709674,
          26.13421052631579
         ],
         "yaxis": "y5"
        },
        {
         "alignmentgroup": "True",
         "hovertemplate": "Pollutant=SO2<br>Region=Oceania<br>Season=%{x}<br>Average Pollutant Level (µg/m³)=%{y}<extra></extra>",
         "legendgroup": "SO2",
         "marker": {
          "color": "#ab63fa",
          "pattern": {
           "shape": ""
          }
         },
         "name": "SO2",
         "offsetgroup": "SO2",
         "orientation": "v",
         "showlegend": false,
         "textposition": "auto",
         "type": "bar",
         "x": [
          "Autumn",
          "Spring",
          "Summer",
          "Winter"
         ],
         "xaxis": "x6",
         "y": [
          26.5808,
          27.581615384615386,
          24.765384615384615,
          23.479649122807015
         ],
         "yaxis": "y6"
        },
        {
         "alignmentgroup": "True",
         "hovertemplate": "Pollutant=SO2<br>Region=South America<br>Season=%{x}<br>Average Pollutant Level (µg/m³)=%{y}<extra></extra>",
         "legendgroup": "SO2",
         "marker": {
          "color": "#ab63fa",
          "pattern": {
           "shape": ""
          }
         },
         "name": "SO2",
         "offsetgroup": "SO2",
         "orientation": "v",
         "showlegend": false,
         "textposition": "auto",
         "type": "bar",
         "x": [
          "Autumn",
          "Spring",
          "Summer",
          "Winter"
         ],
         "xaxis": "x7",
         "y": [
          23.923937007874017,
          23.728467741935482,
          24.962058823529414,
          25.888942307692307
         ],
         "yaxis": "y7"
        }
       ],
       "layout": {
        "annotations": [
         {
          "font": {},
          "showarrow": false,
          "text": "Africa",
          "x": 0.06285714285714285,
          "xanchor": "center",
          "xref": "paper",
          "y": 1,
          "yanchor": "bottom",
          "yref": "paper"
         },
         {
          "font": {},
          "showarrow": false,
          "text": "Asia",
          "x": 0.20857142857142852,
          "xanchor": "center",
          "xref": "paper",
          "y": 1,
          "yanchor": "bottom",
          "yref": "paper"
         },
         {
          "font": {},
          "showarrow": false,
          "text": "Europe",
          "x": 0.3542857142857142,
          "xanchor": "center",
          "xref": "paper",
          "y": 1,
          "yanchor": "bottom",
          "yref": "paper"
         },
         {
          "font": {},
          "showarrow": false,
          "text": "Middle East",
          "x": 0.5,
          "xanchor": "center",
          "xref": "paper",
          "y": 1,
          "yanchor": "bottom",
          "yref": "paper"
         },
         {
          "font": {},
          "showarrow": false,
          "text": "North America",
          "x": 0.6457142857142856,
          "xanchor": "center",
          "xref": "paper",
          "y": 1,
          "yanchor": "bottom",
          "yref": "paper"
         },
         {
          "font": {},
          "showarrow": false,
          "text": "Oceania",
          "x": 0.7914285714285713,
          "xanchor": "center",
          "xref": "paper",
          "y": 1,
          "yanchor": "bottom",
          "yref": "paper"
         },
         {
          "font": {},
          "showarrow": false,
          "text": "South America",
          "x": 0.937142857142857,
          "xanchor": "center",
          "xref": "paper",
          "y": 1,
          "yanchor": "bottom",
          "yref": "paper"
         }
        ],
        "autosize": true,
        "barmode": "group",
        "height": 500,
        "legend": {
         "title": {
          "text": "Pollutant"
         },
         "tracegroupgap": 0
        },
        "template": {
         "data": {
          "bar": [
           {
            "error_x": {
             "color": "#2a3f5f"
            },
            "error_y": {
             "color": "#2a3f5f"
            },
            "marker": {
             "line": {
              "color": "#E5ECF6",
              "width": 0.5
             },
             "pattern": {
              "fillmode": "overlay",
              "size": 10,
              "solidity": 0.2
             }
            },
            "type": "bar"
           }
          ],
          "barpolar": [
           {
            "marker": {
             "line": {
              "color": "#E5ECF6",
              "width": 0.5
             },
             "pattern": {
              "fillmode": "overlay",
              "size": 10,
              "solidity": 0.2
             }
            },
            "type": "barpolar"
           }
          ],
          "carpet": [
           {
            "aaxis": {
             "endlinecolor": "#2a3f5f",
             "gridcolor": "white",
             "linecolor": "white",
             "minorgridcolor": "white",
             "startlinecolor": "#2a3f5f"
            },
            "baxis": {
             "endlinecolor": "#2a3f5f",
             "gridcolor": "white",
             "linecolor": "white",
             "minorgridcolor": "white",
             "startlinecolor": "#2a3f5f"
            },
            "type": "carpet"
           }
          ],
          "choropleth": [
           {
            "colorbar": {
             "outlinewidth": 0,
             "ticks": ""
            },
            "type": "choropleth"
           }
          ],
          "contour": [
           {
            "colorbar": {
             "outlinewidth": 0,
             "ticks": ""
            },
            "colorscale": [
             [
              0,
              "#0d0887"
             ],
             [
              0.1111111111111111,
              "#46039f"
             ],
             [
              0.2222222222222222,
              "#7201a8"
             ],
             [
              0.3333333333333333,
              "#9c179e"
             ],
             [
              0.4444444444444444,
              "#bd3786"
             ],
             [
              0.5555555555555556,
              "#d8576b"
             ],
             [
              0.6666666666666666,
              "#ed7953"
             ],
             [
              0.7777777777777778,
              "#fb9f3a"
             ],
             [
              0.8888888888888888,
              "#fdca26"
             ],
             [
              1,
              "#f0f921"
             ]
            ],
            "type": "contour"
           }
          ],
          "contourcarpet": [
           {
            "colorbar": {
             "outlinewidth": 0,
             "ticks": ""
            },
            "type": "contourcarpet"
           }
          ],
          "heatmap": [
           {
            "colorbar": {
             "outlinewidth": 0,
             "ticks": ""
            },
            "colorscale": [
             [
              0,
              "#0d0887"
             ],
             [
              0.1111111111111111,
              "#46039f"
             ],
             [
              0.2222222222222222,
              "#7201a8"
             ],
             [
              0.3333333333333333,
              "#9c179e"
             ],
             [
              0.4444444444444444,
              "#bd3786"
             ],
             [
              0.5555555555555556,
              "#d8576b"
             ],
             [
              0.6666666666666666,
              "#ed7953"
             ],
             [
              0.7777777777777778,
              "#fb9f3a"
             ],
             [
              0.8888888888888888,
              "#fdca26"
             ],
             [
              1,
              "#f0f921"
             ]
            ],
            "type": "heatmap"
           }
          ],
          "heatmapgl": [
           {
            "colorbar": {
             "outlinewidth": 0,
             "ticks": ""
            },
            "colorscale": [
             [
              0,
              "#0d0887"
             ],
             [
              0.1111111111111111,
              "#46039f"
             ],
             [
              0.2222222222222222,
              "#7201a8"
             ],
             [
              0.3333333333333333,
              "#9c179e"
             ],
             [
              0.4444444444444444,
              "#bd3786"
             ],
             [
              0.5555555555555556,
              "#d8576b"
             ],
             [
              0.6666666666666666,
              "#ed7953"
             ],
             [
              0.7777777777777778,
              "#fb9f3a"
             ],
             [
              0.8888888888888888,
              "#fdca26"
             ],
             [
              1,
              "#f0f921"
             ]
            ],
            "type": "heatmapgl"
           }
          ],
          "histogram": [
           {
            "marker": {
             "pattern": {
              "fillmode": "overlay",
              "size": 10,
              "solidity": 0.2
             }
            },
            "type": "histogram"
           }
          ],
          "histogram2d": [
           {
            "colorbar": {
             "outlinewidth": 0,
             "ticks": ""
            },
            "colorscale": [
             [
              0,
              "#0d0887"
             ],
             [
              0.1111111111111111,
              "#46039f"
             ],
             [
              0.2222222222222222,
              "#7201a8"
             ],
             [
              0.3333333333333333,
              "#9c179e"
             ],
             [
              0.4444444444444444,
              "#bd3786"
             ],
             [
              0.5555555555555556,
              "#d8576b"
             ],
             [
              0.6666666666666666,
              "#ed7953"
             ],
             [
              0.7777777777777778,
              "#fb9f3a"
             ],
             [
              0.8888888888888888,
              "#fdca26"
             ],
             [
              1,
              "#f0f921"
             ]
            ],
            "type": "histogram2d"
           }
          ],
          "histogram2dcontour": [
           {
            "colorbar": {
             "outlinewidth": 0,
             "ticks": ""
            },
            "colorscale": [
             [
              0,
              "#0d0887"
             ],
             [
              0.1111111111111111,
              "#46039f"
             ],
             [
              0.2222222222222222,
              "#7201a8"
             ],
             [
              0.3333333333333333,
              "#9c179e"
             ],
             [
              0.4444444444444444,
              "#bd3786"
             ],
             [
              0.5555555555555556,
              "#d8576b"
             ],
             [
              0.6666666666666666,
              "#ed7953"
             ],
             [
              0.7777777777777778,
              "#fb9f3a"
             ],
             [
              0.8888888888888888,
              "#fdca26"
             ],
             [
              1,
              "#f0f921"
             ]
            ],
            "type": "histogram2dcontour"
           }
          ],
          "mesh3d": [
           {
            "colorbar": {
             "outlinewidth": 0,
             "ticks": ""
            },
            "type": "mesh3d"
           }
          ],
          "parcoords": [
           {
            "line": {
             "colorbar": {
              "outlinewidth": 0,
              "ticks": ""
             }
            },
            "type": "parcoords"
           }
          ],
          "pie": [
           {
            "automargin": true,
            "type": "pie"
           }
          ],
          "scatter": [
           {
            "fillpattern": {
             "fillmode": "overlay",
             "size": 10,
             "solidity": 0.2
            },
            "type": "scatter"
           }
          ],
          "scatter3d": [
           {
            "line": {
             "colorbar": {
              "outlinewidth": 0,
              "ticks": ""
             }
            },
            "marker": {
             "colorbar": {
              "outlinewidth": 0,
              "ticks": ""
             }
            },
            "type": "scatter3d"
           }
          ],
          "scattercarpet": [
           {
            "marker": {
             "colorbar": {
              "outlinewidth": 0,
              "ticks": ""
             }
            },
            "type": "scattercarpet"
           }
          ],
          "scattergeo": [
           {
            "marker": {
             "colorbar": {
              "outlinewidth": 0,
              "ticks": ""
             }
            },
            "type": "scattergeo"
           }
          ],
          "scattergl": [
           {
            "marker": {
             "colorbar": {
              "outlinewidth": 0,
              "ticks": ""
             }
            },
            "type": "scattergl"
           }
          ],
          "scattermapbox": [
           {
            "marker": {
             "colorbar": {
              "outlinewidth": 0,
              "ticks": ""
             }
            },
            "type": "scattermapbox"
           }
          ],
          "scatterpolar": [
           {
            "marker": {
             "colorbar": {
              "outlinewidth": 0,
              "ticks": ""
             }
            },
            "type": "scatterpolar"
           }
          ],
          "scatterpolargl": [
           {
            "marker": {
             "colorbar": {
              "outlinewidth": 0,
              "ticks": ""
             }
            },
            "type": "scatterpolargl"
           }
          ],
          "scatterternary": [
           {
            "marker": {
             "colorbar": {
              "outlinewidth": 0,
              "ticks": ""
             }
            },
            "type": "scatterternary"
           }
          ],
          "surface": [
           {
            "colorbar": {
             "outlinewidth": 0,
             "ticks": ""
            },
            "colorscale": [
             [
              0,
              "#0d0887"
             ],
             [
              0.1111111111111111,
              "#46039f"
             ],
             [
              0.2222222222222222,
              "#7201a8"
             ],
             [
              0.3333333333333333,
              "#9c179e"
             ],
             [
              0.4444444444444444,
              "#bd3786"
             ],
             [
              0.5555555555555556,
              "#d8576b"
             ],
             [
              0.6666666666666666,
              "#ed7953"
             ],
             [
              0.7777777777777778,
              "#fb9f3a"
             ],
             [
              0.8888888888888888,
              "#fdca26"
             ],
             [
              1,
              "#f0f921"
             ]
            ],
            "type": "surface"
           }
          ],
          "table": [
           {
            "cells": {
             "fill": {
              "color": "#EBF0F8"
             },
             "line": {
              "color": "white"
             }
            },
            "header": {
             "fill": {
              "color": "#C8D4E3"
             },
             "line": {
              "color": "white"
             }
            },
            "type": "table"
           }
          ]
         },
         "layout": {
          "annotationdefaults": {
           "arrowcolor": "#2a3f5f",
           "arrowhead": 0,
           "arrowwidth": 1
          },
          "autotypenumbers": "strict",
          "coloraxis": {
           "colorbar": {
            "outlinewidth": 0,
            "ticks": ""
           }
          },
          "colorscale": {
           "diverging": [
            [
             0,
             "#8e0152"
            ],
            [
             0.1,
             "#c51b7d"
            ],
            [
             0.2,
             "#de77ae"
            ],
            [
             0.3,
             "#f1b6da"
            ],
            [
             0.4,
             "#fde0ef"
            ],
            [
             0.5,
             "#f7f7f7"
            ],
            [
             0.6,
             "#e6f5d0"
            ],
            [
             0.7,
             "#b8e186"
            ],
            [
             0.8,
             "#7fbc41"
            ],
            [
             0.9,
             "#4d9221"
            ],
            [
             1,
             "#276419"
            ]
           ],
           "sequential": [
            [
             0,
             "#0d0887"
            ],
            [
             0.1111111111111111,
             "#46039f"
            ],
            [
             0.2222222222222222,
             "#7201a8"
            ],
            [
             0.3333333333333333,
             "#9c179e"
            ],
            [
             0.4444444444444444,
             "#bd3786"
            ],
            [
             0.5555555555555556,
             "#d8576b"
            ],
            [
             0.6666666666666666,
             "#ed7953"
            ],
            [
             0.7777777777777778,
             "#fb9f3a"
            ],
            [
             0.8888888888888888,
             "#fdca26"
            ],
            [
             1,
             "#f0f921"
            ]
           ],
           "sequentialminus": [
            [
             0,
             "#0d0887"
            ],
            [
             0.1111111111111111,
             "#46039f"
            ],
            [
             0.2222222222222222,
             "#7201a8"
            ],
            [
             0.3333333333333333,
             "#9c179e"
            ],
            [
             0.4444444444444444,
             "#bd3786"
            ],
            [
             0.5555555555555556,
             "#d8576b"
            ],
            [
             0.6666666666666666,
             "#ed7953"
            ],
            [
             0.7777777777777778,
             "#fb9f3a"
            ],
            [
             0.8888888888888888,
             "#fdca26"
            ],
            [
             1,
             "#f0f921"
            ]
           ]
          },
          "colorway": [
           "#636efa",
           "#EF553B",
           "#00cc96",
           "#ab63fa",
           "#FFA15A",
           "#19d3f3",
           "#FF6692",
           "#B6E880",
           "#FF97FF",
           "#FECB52"
          ],
          "font": {
           "color": "#2a3f5f"
          },
          "geo": {
           "bgcolor": "white",
           "lakecolor": "white",
           "landcolor": "#E5ECF6",
           "showlakes": true,
           "showland": true,
           "subunitcolor": "white"
          },
          "hoverlabel": {
           "align": "left"
          },
          "hovermode": "closest",
          "mapbox": {
           "style": "light"
          },
          "paper_bgcolor": "white",
          "plot_bgcolor": "#E5ECF6",
          "polar": {
           "angularaxis": {
            "gridcolor": "white",
            "linecolor": "white",
            "ticks": ""
           },
           "bgcolor": "#E5ECF6",
           "radialaxis": {
            "gridcolor": "white",
            "linecolor": "white",
            "ticks": ""
           }
          },
          "scene": {
           "xaxis": {
            "backgroundcolor": "#E5ECF6",
            "gridcolor": "white",
            "gridwidth": 2,
            "linecolor": "white",
            "showbackground": true,
            "ticks": "",
            "zerolinecolor": "white"
           },
           "yaxis": {
            "backgroundcolor": "#E5ECF6",
            "gridcolor": "white",
            "gridwidth": 2,
            "linecolor": "white",
            "showbackground": true,
            "ticks": "",
            "zerolinecolor": "white"
           },
           "zaxis": {
            "backgroundcolor": "#E5ECF6",
            "gridcolor": "white",
            "gridwidth": 2,
            "linecolor": "white",
            "showbackground": true,
            "ticks": "",
            "zerolinecolor": "white"
           }
          },
          "shapedefaults": {
           "line": {
            "color": "#2a3f5f"
           }
          },
          "ternary": {
           "aaxis": {
            "gridcolor": "white",
            "linecolor": "white",
            "ticks": ""
           },
           "baxis": {
            "gridcolor": "white",
            "linecolor": "white",
            "ticks": ""
           },
           "bgcolor": "#E5ECF6",
           "caxis": {
            "gridcolor": "white",
            "linecolor": "white",
            "ticks": ""
           }
          },
          "title": {
           "x": 0.05
          },
          "xaxis": {
           "automargin": true,
           "gridcolor": "white",
           "linecolor": "white",
           "ticks": "",
           "title": {
            "standoff": 15
           },
           "zerolinecolor": "white",
           "zerolinewidth": 2
          },
          "yaxis": {
           "automargin": true,
           "gridcolor": "white",
           "linecolor": "white",
           "ticks": "",
           "title": {
            "standoff": 15
           },
           "zerolinecolor": "white",
           "zerolinewidth": 2
          }
         }
        },
        "title": {
         "text": "Average Pollutant Levels by Season and Region"
        },
        "width": 1000,
        "xaxis": {
         "anchor": "y",
         "categoryarray": [
          "Spring",
          "Summer",
          "Autumn",
          "Winter"
         ],
         "categoryorder": "array",
         "domain": [
          0,
          0.1257142857142857
         ],
         "tickangle": 45,
         "title": {
          "text": "Season"
         }
        },
        "xaxis2": {
         "anchor": "y2",
         "categoryarray": [
          "Spring",
          "Summer",
          "Autumn",
          "Winter"
         ],
         "categoryorder": "array",
         "domain": [
          0.14571428571428569,
          0.27142857142857135
         ],
         "matches": "x",
         "tickangle": 45,
         "title": {
          "text": "Season"
         }
        },
        "xaxis3": {
         "anchor": "y3",
         "categoryarray": [
          "Spring",
          "Summer",
          "Autumn",
          "Winter"
         ],
         "categoryorder": "array",
         "domain": [
          0.29142857142857137,
          0.41714285714285704
         ],
         "matches": "x",
         "tickangle": 45,
         "title": {
          "text": "Season"
         }
        },
        "xaxis4": {
         "anchor": "y4",
         "categoryarray": [
          "Spring",
          "Summer",
          "Autumn",
          "Winter"
         ],
         "categoryorder": "array",
         "domain": [
          0.4371428571428571,
          0.5628571428571428
         ],
         "matches": "x",
         "tickangle": 45,
         "title": {
          "text": "Season"
         }
        },
        "xaxis5": {
         "anchor": "y5",
         "categoryarray": [
          "Spring",
          "Summer",
          "Autumn",
          "Winter"
         ],
         "categoryorder": "array",
         "domain": [
          0.5828571428571427,
          0.7085714285714284
         ],
         "matches": "x",
         "tickangle": 45,
         "title": {
          "text": "Season"
         }
        },
        "xaxis6": {
         "anchor": "y6",
         "categoryarray": [
          "Spring",
          "Summer",
          "Autumn",
          "Winter"
         ],
         "categoryorder": "array",
         "domain": [
          0.7285714285714284,
          0.8542857142857141
         ],
         "matches": "x",
         "tickangle": 45,
         "title": {
          "text": "Season"
         }
        },
        "xaxis7": {
         "anchor": "y7",
         "categoryarray": [
          "Spring",
          "Summer",
          "Autumn",
          "Winter"
         ],
         "categoryorder": "array",
         "domain": [
          0.8742857142857142,
          0.9999999999999999
         ],
         "matches": "x",
         "tickangle": 45,
         "title": {
          "text": "Season"
         }
        },
        "yaxis": {
         "anchor": "x",
         "domain": [
          0,
          1
         ],
         "title": {
          "text": "Average Pollutant Level (µg/m³)"
         }
        },
        "yaxis2": {
         "anchor": "x2",
         "domain": [
          0,
          1
         ],
         "matches": "y",
         "showticklabels": false
        },
        "yaxis3": {
         "anchor": "x3",
         "domain": [
          0,
          1
         ],
         "matches": "y",
         "showticklabels": false
        },
        "yaxis4": {
         "anchor": "x4",
         "domain": [
          0,
          1
         ],
         "matches": "y",
         "showticklabels": false
        },
        "yaxis5": {
         "anchor": "x5",
         "domain": [
          0,
          1
         ],
         "matches": "y",
         "showticklabels": false
        },
        "yaxis6": {
         "anchor": "x6",
         "domain": [
          0,
          1
         ],
         "matches": "y",
         "showticklabels": false
        },
        "yaxis7": {
         "anchor": "x7",
         "domain": [
          0,
          1
         ],
         "matches": "y",
         "showticklabels": false
        }
       }
      }
     },
     "metadata": {},
     "output_type": "display_data"
    }
   ],
   "source": [
    "# Bar chart comparing average pollutant levels by season and region\n",
    "pollutants = ['PM2.5', 'PM10', 'NO2', 'SO2']\n",
    "seasonal_pollutants = df.groupby(['Season', 'Region'])[pollutants].mean().reset_index()\n",
    "\n",
    "# Melt data for visualization\n",
    "melted_pollutants = pd.melt(seasonal_pollutants, id_vars=['Season', 'Region'], \n",
    "                            value_vars=pollutants, \n",
    "                            var_name='Pollutant', value_name='Average Level')\n",
    "# Ensure Season order for better visualization\n",
    "season_order = ['Spring', 'Summer', 'Autumn', 'Winter']\n",
    "\n",
    "# Ensure Season order\n",
    "melted_pollutants['Season'] = pd.Categorical(melted_pollutants['Season'], categories=season_order, ordered=True)\n",
    "\n",
    "fig_bar = px.bar(melted_pollutants, \n",
    "                 x='Season', \n",
    "                 y='Average Level', \n",
    "                 color='Pollutant',\n",
    "                 facet_col='Region',\n",
    "                 title='Average Pollutant Levels by Season and Region',\n",
    "                 barmode='group',\n",
    "                 labels={'Average Level': 'Average Pollutant Level (µg/m³)', 'Season': 'Season'},\n",
    "                 category_orders={'Season': season_order})\n",
    "\n",
    "fig_bar.update_layout(\n",
    "    autosize=True,\n",
    "    width=1000,  # Wider to accommodate additional regions\n",
    "    height=500, \n",
    "    xaxis_title='Season',\n",
    "    yaxis_title='Average Pollutant Level (µg/m³)',\n",
    "    legend_title='Pollutant'\n",
    ")\n",
    "# Improve facet grid layout for better visibility\n",
    "fig_bar.update_xaxes(tickangle=45)\n",
    "fig_bar.for_each_annotation(lambda a: a.update(text=a.text.split(\"=\")[-1]))  # Simplify facet titles\n",
    "fig_bar.show()"
   ]
  },
  {
   "cell_type": "markdown",
   "metadata": {},
   "source": [
    "## 4.2. What are the levels of pollution during different weather conditions?\n"
   ]
  },
  {
   "cell_type": "markdown",
   "metadata": {},
   "source": [
    "- How we answer this question:\n",
    "    - Data Categorization:\n",
    "        - Group temperature into ranges (Cold, Mild, Hot)\n",
    "        - Categorize humidity levels (Low, Medium, High)\n",
    "        - Classify wind speed (Calm, Moderate, Strong)\n",
    "    - Analysis Approach:\n",
    "        - Calculate average AQI for each weather category\n",
    "        - Perform statistical analysis to determine correlations\n",
    "        - Develop multi-dimensional visualization\n",
    "- Visualization Strategy:\n",
    "    - Heatmaps showing AQI variations across weather parameters\n",
    "    - Box plots comparing pollution levels in different weather conditions"
   ]
  },
  {
   "cell_type": "markdown",
   "metadata": {},
   "source": [
    "*Preprocessing steps:*"
   ]
  },
  {
   "cell_type": "code",
   "execution_count": 104,
   "metadata": {},
   "outputs": [],
   "source": [
    "def categorize_temperature(temp):\n",
    "    if temp < 10:\n",
    "        return 'Cold'\n",
    "    elif 10 <= temp < 25:\n",
    "        return 'Cool'\n",
    "    elif 25 <= temp < 30:\n",
    "        return 'Moderate'\n",
    "    elif 30 <= temp < 35:\n",
    "        return 'Warm'\n",
    "    else:\n",
    "        return 'Hot'\n",
    "\n",
    "def categorize_humidity(hum):\n",
    "    if hum < 40:\n",
    "        return 'Dry'\n",
    "    elif 40 <= hum < 60:\n",
    "        return 'Comfortable'\n",
    "    else:\n",
    "        return 'Humid'\n",
    "\n",
    "def categorize_wind_speed(ws):\n",
    "    if ws < 1:\n",
    "        return 'Calm / Light Air'\n",
    "    elif 1 <= ws < 11:\n",
    "        return 'Breeze'\n",
    "    else:\n",
    "        return 'Gale / Storm'\n",
    "\n",
    "\n",
    "    \n",
    "required_columns = ['Temperature', 'Humidity', 'Wind Speed', 'PM2.5', 'PM10', 'NO2', 'SO2', 'O3']\n",
    "data = df.dropna(subset=required_columns)"
   ]
  },
  {
   "cell_type": "code",
   "execution_count": 105,
   "metadata": {},
   "outputs": [],
   "source": [
    "# Apply categorization functions\n",
    "data['Temperature_Category'] = data['Temperature'].apply(categorize_temperature)\n",
    "data['Humidity_Category'] = data['Humidity'].apply(categorize_humidity)\n",
    "data['Wind_Speed_Category'] = data['Wind Speed'].apply(categorize_wind_speed)"
   ]
  },
  {
   "cell_type": "code",
   "execution_count": 106,
   "metadata": {},
   "outputs": [],
   "source": [
    "avg_aqi_temp = data.groupby('Temperature_Category')['US_AQI'].mean().reset_index()\n",
    "avg_aqi_humidity = data.groupby('Humidity_Category')['US_AQI'].mean().reset_index()\n",
    "avg_aqi_wind = data.groupby('Wind_Speed_Category')['US_AQI'].mean().reset_index()"
   ]
  },
  {
   "cell_type": "code",
   "execution_count": 107,
   "metadata": {},
   "outputs": [
    {
     "data": {
      "text/plain": [
       "array(['Gale / Storm', 'Breeze', 'Calm / Light Air'], dtype=object)"
      ]
     },
     "execution_count": 107,
     "metadata": {},
     "output_type": "execute_result"
    }
   ],
   "source": [
    "data['Wind_Speed_Category'].unique()"
   ]
  },
  {
   "cell_type": "markdown",
   "metadata": {},
   "source": [
    "*Analysis steps:*"
   ]
  },
  {
   "cell_type": "code",
   "execution_count": 108,
   "metadata": {},
   "outputs": [
    {
     "data": {
      "application/vnd.plotly.v1+json": {
       "config": {
        "plotlyServerURL": "https://plot.ly"
       },
       "data": [
        {
         "alignmentgroup": "True",
         "hovertemplate": "Humidity Category=Dry<br>Wind Speed Category=Calm / Light Air<br>Temperature Category=%{x}<br>Average AQI=%{y}<extra></extra>",
         "legendgroup": "Dry",
         "marker": {
          "color": "#636efa",
          "pattern": {
           "shape": ""
          }
         },
         "name": "Dry",
         "offsetgroup": "Dry",
         "orientation": "v",
         "showlegend": true,
         "textposition": "auto",
         "type": "bar",
         "x": [
          "Cold",
          "Cool",
          "Hot",
          "Moderate",
          "Warm"
         ],
         "xaxis": "x",
         "y": [
          186.3,
          214.2608695652174,
          199,
          231.3,
          172.57142857142858
         ],
         "yaxis": "y"
        },
        {
         "alignmentgroup": "True",
         "hovertemplate": "Humidity Category=Dry<br>Wind Speed Category=Breeze<br>Temperature Category=%{x}<br>Average AQI=%{y}<extra></extra>",
         "legendgroup": "Dry",
         "marker": {
          "color": "#636efa",
          "pattern": {
           "shape": ""
          }
         },
         "name": "Dry",
         "offsetgroup": "Dry",
         "orientation": "v",
         "showlegend": false,
         "textposition": "auto",
         "type": "bar",
         "x": [
          "Cold",
          "Cool",
          "Hot",
          "Moderate",
          "Warm"
         ],
         "xaxis": "x2",
         "y": [
          203.3355155482815,
          201.69754253308128,
          202.55882352941177,
          209.78658536585365,
          201.90058479532163
         ],
         "yaxis": "y2"
        },
        {
         "alignmentgroup": "True",
         "hovertemplate": "Humidity Category=Dry<br>Wind Speed Category=Gale / Storm<br>Temperature Category=%{x}<br>Average AQI=%{y}<extra></extra>",
         "legendgroup": "Dry",
         "marker": {
          "color": "#636efa",
          "pattern": {
           "shape": ""
          }
         },
         "name": "Dry",
         "offsetgroup": "Dry",
         "orientation": "v",
         "showlegend": false,
         "textposition": "auto",
         "type": "bar",
         "x": [
          "Cold",
          "Cool",
          "Hot",
          "Moderate",
          "Warm"
         ],
         "xaxis": "x3",
         "y": [
          203.76339285714286,
          204.7308533916849,
          207.40123456790124,
          205.30263157894737,
          199.3684210526316
         ],
         "yaxis": "y3"
        },
        {
         "alignmentgroup": "True",
         "hovertemplate": "Humidity Category=Comfortable<br>Wind Speed Category=Calm / Light Air<br>Temperature Category=%{x}<br>Average AQI=%{y}<extra></extra>",
         "legendgroup": "Comfortable",
         "marker": {
          "color": "#EF553B",
          "pattern": {
           "shape": ""
          }
         },
         "name": "Comfortable",
         "offsetgroup": "Comfortable",
         "orientation": "v",
         "showlegend": true,
         "textposition": "auto",
         "type": "bar",
         "x": [
          "Cold",
          "Cool",
          "Hot",
          "Moderate",
          "Warm"
         ],
         "xaxis": "x",
         "y": [
          234.4,
          192.30769230769232,
          226,
          216.66666666666666,
          216.75
         ],
         "yaxis": "y"
        },
        {
         "alignmentgroup": "True",
         "hovertemplate": "Humidity Category=Comfortable<br>Wind Speed Category=Breeze<br>Temperature Category=%{x}<br>Average AQI=%{y}<extra></extra>",
         "legendgroup": "Comfortable",
         "marker": {
          "color": "#EF553B",
          "pattern": {
           "shape": ""
          }
         },
         "name": "Comfortable",
         "offsetgroup": "Comfortable",
         "orientation": "v",
         "showlegend": false,
         "textposition": "auto",
         "type": "bar",
         "x": [
          "Cold",
          "Cool",
          "Hot",
          "Moderate",
          "Warm"
         ],
         "xaxis": "x2",
         "y": [
          203.81873727087577,
          204.05797101449275,
          207.25,
          208.51923076923077,
          205.18627450980392
         ],
         "yaxis": "y2"
        },
        {
         "alignmentgroup": "True",
         "hovertemplate": "Humidity Category=Comfortable<br>Wind Speed Category=Gale / Storm<br>Temperature Category=%{x}<br>Average AQI=%{y}<extra></extra>",
         "legendgroup": "Comfortable",
         "marker": {
          "color": "#EF553B",
          "pattern": {
           "shape": ""
          }
         },
         "name": "Comfortable",
         "offsetgroup": "Comfortable",
         "orientation": "v",
         "showlegend": false,
         "textposition": "auto",
         "type": "bar",
         "x": [
          "Cold",
          "Cool",
          "Hot",
          "Moderate",
          "Warm"
         ],
         "xaxis": "x3",
         "y": [
          205.91071428571428,
          204.9591836734694,
          198.23584905660377,
          211.69387755102042,
          202.2421052631579
         ],
         "yaxis": "y3"
        },
        {
         "alignmentgroup": "True",
         "hovertemplate": "Humidity Category=Humid<br>Wind Speed Category=Calm / Light Air<br>Temperature Category=%{x}<br>Average AQI=%{y}<extra></extra>",
         "legendgroup": "Humid",
         "marker": {
          "color": "#00cc96",
          "pattern": {
           "shape": ""
          }
         },
         "name": "Humid",
         "offsetgroup": "Humid",
         "orientation": "v",
         "showlegend": true,
         "textposition": "auto",
         "type": "bar",
         "x": [
          "Cold",
          "Cool",
          "Hot",
          "Moderate",
          "Warm"
         ],
         "xaxis": "x",
         "y": [
          195.3125,
          196.875,
          192.55555555555554,
          234.06666666666666,
          235.2
         ],
         "yaxis": "y"
        },
        {
         "alignmentgroup": "True",
         "hovertemplate": "Humidity Category=Humid<br>Wind Speed Category=Breeze<br>Temperature Category=%{x}<br>Average AQI=%{y}<extra></extra>",
         "legendgroup": "Humid",
         "marker": {
          "color": "#00cc96",
          "pattern": {
           "shape": ""
          }
         },
         "name": "Humid",
         "offsetgroup": "Humid",
         "orientation": "v",
         "showlegend": false,
         "textposition": "auto",
         "type": "bar",
         "x": [
          "Cold",
          "Cool",
          "Hot",
          "Moderate",
          "Warm"
         ],
         "xaxis": "x2",
         "y": [
          204.3351120597652,
          209.36690647482015,
          203.4908256880734,
          202.4927536231884,
          211.02857142857144
         ],
         "yaxis": "y2"
        },
        {
         "alignmentgroup": "True",
         "hovertemplate": "Humidity Category=Humid<br>Wind Speed Category=Gale / Storm<br>Temperature Category=%{x}<br>Average AQI=%{y}<extra></extra>",
         "legendgroup": "Humid",
         "marker": {
          "color": "#00cc96",
          "pattern": {
           "shape": ""
          }
         },
         "name": "Humid",
         "offsetgroup": "Humid",
         "orientation": "v",
         "showlegend": false,
         "textposition": "auto",
         "type": "bar",
         "x": [
          "Cold",
          "Cool",
          "Hot",
          "Moderate",
          "Warm"
         ],
         "xaxis": "x3",
         "y": [
          201.23915737298637,
          207.85436893203882,
          203.02020202020202,
          207.76444444444445,
          200.63942307692307
         ],
         "yaxis": "y3"
        }
       ],
       "layout": {
        "annotations": [
         {
          "font": {},
          "showarrow": false,
          "text": "Wind Speed Category=Calm / Light Air",
          "x": 0.15999999999999998,
          "xanchor": "center",
          "xref": "paper",
          "y": 1,
          "yanchor": "bottom",
          "yref": "paper"
         },
         {
          "font": {},
          "showarrow": false,
          "text": "Wind Speed Category=Breeze",
          "x": 0.49999999999999994,
          "xanchor": "center",
          "xref": "paper",
          "y": 1,
          "yanchor": "bottom",
          "yref": "paper"
         },
         {
          "font": {},
          "showarrow": false,
          "text": "Wind Speed Category=Gale / Storm",
          "x": 0.8399999999999999,
          "xanchor": "center",
          "xref": "paper",
          "y": 1,
          "yanchor": "bottom",
          "yref": "paper"
         }
        ],
        "bargap": 0.2,
        "barmode": "group",
        "height": 500,
        "legend": {
         "title": {
          "text": "Humidity Category"
         },
         "tracegroupgap": 0
        },
        "template": {
         "data": {
          "bar": [
           {
            "error_x": {
             "color": "#2a3f5f"
            },
            "error_y": {
             "color": "#2a3f5f"
            },
            "marker": {
             "line": {
              "color": "#E5ECF6",
              "width": 0.5
             },
             "pattern": {
              "fillmode": "overlay",
              "size": 10,
              "solidity": 0.2
             }
            },
            "type": "bar"
           }
          ],
          "barpolar": [
           {
            "marker": {
             "line": {
              "color": "#E5ECF6",
              "width": 0.5
             },
             "pattern": {
              "fillmode": "overlay",
              "size": 10,
              "solidity": 0.2
             }
            },
            "type": "barpolar"
           }
          ],
          "carpet": [
           {
            "aaxis": {
             "endlinecolor": "#2a3f5f",
             "gridcolor": "white",
             "linecolor": "white",
             "minorgridcolor": "white",
             "startlinecolor": "#2a3f5f"
            },
            "baxis": {
             "endlinecolor": "#2a3f5f",
             "gridcolor": "white",
             "linecolor": "white",
             "minorgridcolor": "white",
             "startlinecolor": "#2a3f5f"
            },
            "type": "carpet"
           }
          ],
          "choropleth": [
           {
            "colorbar": {
             "outlinewidth": 0,
             "ticks": ""
            },
            "type": "choropleth"
           }
          ],
          "contour": [
           {
            "colorbar": {
             "outlinewidth": 0,
             "ticks": ""
            },
            "colorscale": [
             [
              0,
              "#0d0887"
             ],
             [
              0.1111111111111111,
              "#46039f"
             ],
             [
              0.2222222222222222,
              "#7201a8"
             ],
             [
              0.3333333333333333,
              "#9c179e"
             ],
             [
              0.4444444444444444,
              "#bd3786"
             ],
             [
              0.5555555555555556,
              "#d8576b"
             ],
             [
              0.6666666666666666,
              "#ed7953"
             ],
             [
              0.7777777777777778,
              "#fb9f3a"
             ],
             [
              0.8888888888888888,
              "#fdca26"
             ],
             [
              1,
              "#f0f921"
             ]
            ],
            "type": "contour"
           }
          ],
          "contourcarpet": [
           {
            "colorbar": {
             "outlinewidth": 0,
             "ticks": ""
            },
            "type": "contourcarpet"
           }
          ],
          "heatmap": [
           {
            "colorbar": {
             "outlinewidth": 0,
             "ticks": ""
            },
            "colorscale": [
             [
              0,
              "#0d0887"
             ],
             [
              0.1111111111111111,
              "#46039f"
             ],
             [
              0.2222222222222222,
              "#7201a8"
             ],
             [
              0.3333333333333333,
              "#9c179e"
             ],
             [
              0.4444444444444444,
              "#bd3786"
             ],
             [
              0.5555555555555556,
              "#d8576b"
             ],
             [
              0.6666666666666666,
              "#ed7953"
             ],
             [
              0.7777777777777778,
              "#fb9f3a"
             ],
             [
              0.8888888888888888,
              "#fdca26"
             ],
             [
              1,
              "#f0f921"
             ]
            ],
            "type": "heatmap"
           }
          ],
          "heatmapgl": [
           {
            "colorbar": {
             "outlinewidth": 0,
             "ticks": ""
            },
            "colorscale": [
             [
              0,
              "#0d0887"
             ],
             [
              0.1111111111111111,
              "#46039f"
             ],
             [
              0.2222222222222222,
              "#7201a8"
             ],
             [
              0.3333333333333333,
              "#9c179e"
             ],
             [
              0.4444444444444444,
              "#bd3786"
             ],
             [
              0.5555555555555556,
              "#d8576b"
             ],
             [
              0.6666666666666666,
              "#ed7953"
             ],
             [
              0.7777777777777778,
              "#fb9f3a"
             ],
             [
              0.8888888888888888,
              "#fdca26"
             ],
             [
              1,
              "#f0f921"
             ]
            ],
            "type": "heatmapgl"
           }
          ],
          "histogram": [
           {
            "marker": {
             "pattern": {
              "fillmode": "overlay",
              "size": 10,
              "solidity": 0.2
             }
            },
            "type": "histogram"
           }
          ],
          "histogram2d": [
           {
            "colorbar": {
             "outlinewidth": 0,
             "ticks": ""
            },
            "colorscale": [
             [
              0,
              "#0d0887"
             ],
             [
              0.1111111111111111,
              "#46039f"
             ],
             [
              0.2222222222222222,
              "#7201a8"
             ],
             [
              0.3333333333333333,
              "#9c179e"
             ],
             [
              0.4444444444444444,
              "#bd3786"
             ],
             [
              0.5555555555555556,
              "#d8576b"
             ],
             [
              0.6666666666666666,
              "#ed7953"
             ],
             [
              0.7777777777777778,
              "#fb9f3a"
             ],
             [
              0.8888888888888888,
              "#fdca26"
             ],
             [
              1,
              "#f0f921"
             ]
            ],
            "type": "histogram2d"
           }
          ],
          "histogram2dcontour": [
           {
            "colorbar": {
             "outlinewidth": 0,
             "ticks": ""
            },
            "colorscale": [
             [
              0,
              "#0d0887"
             ],
             [
              0.1111111111111111,
              "#46039f"
             ],
             [
              0.2222222222222222,
              "#7201a8"
             ],
             [
              0.3333333333333333,
              "#9c179e"
             ],
             [
              0.4444444444444444,
              "#bd3786"
             ],
             [
              0.5555555555555556,
              "#d8576b"
             ],
             [
              0.6666666666666666,
              "#ed7953"
             ],
             [
              0.7777777777777778,
              "#fb9f3a"
             ],
             [
              0.8888888888888888,
              "#fdca26"
             ],
             [
              1,
              "#f0f921"
             ]
            ],
            "type": "histogram2dcontour"
           }
          ],
          "mesh3d": [
           {
            "colorbar": {
             "outlinewidth": 0,
             "ticks": ""
            },
            "type": "mesh3d"
           }
          ],
          "parcoords": [
           {
            "line": {
             "colorbar": {
              "outlinewidth": 0,
              "ticks": ""
             }
            },
            "type": "parcoords"
           }
          ],
          "pie": [
           {
            "automargin": true,
            "type": "pie"
           }
          ],
          "scatter": [
           {
            "fillpattern": {
             "fillmode": "overlay",
             "size": 10,
             "solidity": 0.2
            },
            "type": "scatter"
           }
          ],
          "scatter3d": [
           {
            "line": {
             "colorbar": {
              "outlinewidth": 0,
              "ticks": ""
             }
            },
            "marker": {
             "colorbar": {
              "outlinewidth": 0,
              "ticks": ""
             }
            },
            "type": "scatter3d"
           }
          ],
          "scattercarpet": [
           {
            "marker": {
             "colorbar": {
              "outlinewidth": 0,
              "ticks": ""
             }
            },
            "type": "scattercarpet"
           }
          ],
          "scattergeo": [
           {
            "marker": {
             "colorbar": {
              "outlinewidth": 0,
              "ticks": ""
             }
            },
            "type": "scattergeo"
           }
          ],
          "scattergl": [
           {
            "marker": {
             "colorbar": {
              "outlinewidth": 0,
              "ticks": ""
             }
            },
            "type": "scattergl"
           }
          ],
          "scattermapbox": [
           {
            "marker": {
             "colorbar": {
              "outlinewidth": 0,
              "ticks": ""
             }
            },
            "type": "scattermapbox"
           }
          ],
          "scatterpolar": [
           {
            "marker": {
             "colorbar": {
              "outlinewidth": 0,
              "ticks": ""
             }
            },
            "type": "scatterpolar"
           }
          ],
          "scatterpolargl": [
           {
            "marker": {
             "colorbar": {
              "outlinewidth": 0,
              "ticks": ""
             }
            },
            "type": "scatterpolargl"
           }
          ],
          "scatterternary": [
           {
            "marker": {
             "colorbar": {
              "outlinewidth": 0,
              "ticks": ""
             }
            },
            "type": "scatterternary"
           }
          ],
          "surface": [
           {
            "colorbar": {
             "outlinewidth": 0,
             "ticks": ""
            },
            "colorscale": [
             [
              0,
              "#0d0887"
             ],
             [
              0.1111111111111111,
              "#46039f"
             ],
             [
              0.2222222222222222,
              "#7201a8"
             ],
             [
              0.3333333333333333,
              "#9c179e"
             ],
             [
              0.4444444444444444,
              "#bd3786"
             ],
             [
              0.5555555555555556,
              "#d8576b"
             ],
             [
              0.6666666666666666,
              "#ed7953"
             ],
             [
              0.7777777777777778,
              "#fb9f3a"
             ],
             [
              0.8888888888888888,
              "#fdca26"
             ],
             [
              1,
              "#f0f921"
             ]
            ],
            "type": "surface"
           }
          ],
          "table": [
           {
            "cells": {
             "fill": {
              "color": "#EBF0F8"
             },
             "line": {
              "color": "white"
             }
            },
            "header": {
             "fill": {
              "color": "#C8D4E3"
             },
             "line": {
              "color": "white"
             }
            },
            "type": "table"
           }
          ]
         },
         "layout": {
          "annotationdefaults": {
           "arrowcolor": "#2a3f5f",
           "arrowhead": 0,
           "arrowwidth": 1
          },
          "autotypenumbers": "strict",
          "coloraxis": {
           "colorbar": {
            "outlinewidth": 0,
            "ticks": ""
           }
          },
          "colorscale": {
           "diverging": [
            [
             0,
             "#8e0152"
            ],
            [
             0.1,
             "#c51b7d"
            ],
            [
             0.2,
             "#de77ae"
            ],
            [
             0.3,
             "#f1b6da"
            ],
            [
             0.4,
             "#fde0ef"
            ],
            [
             0.5,
             "#f7f7f7"
            ],
            [
             0.6,
             "#e6f5d0"
            ],
            [
             0.7,
             "#b8e186"
            ],
            [
             0.8,
             "#7fbc41"
            ],
            [
             0.9,
             "#4d9221"
            ],
            [
             1,
             "#276419"
            ]
           ],
           "sequential": [
            [
             0,
             "#0d0887"
            ],
            [
             0.1111111111111111,
             "#46039f"
            ],
            [
             0.2222222222222222,
             "#7201a8"
            ],
            [
             0.3333333333333333,
             "#9c179e"
            ],
            [
             0.4444444444444444,
             "#bd3786"
            ],
            [
             0.5555555555555556,
             "#d8576b"
            ],
            [
             0.6666666666666666,
             "#ed7953"
            ],
            [
             0.7777777777777778,
             "#fb9f3a"
            ],
            [
             0.8888888888888888,
             "#fdca26"
            ],
            [
             1,
             "#f0f921"
            ]
           ],
           "sequentialminus": [
            [
             0,
             "#0d0887"
            ],
            [
             0.1111111111111111,
             "#46039f"
            ],
            [
             0.2222222222222222,
             "#7201a8"
            ],
            [
             0.3333333333333333,
             "#9c179e"
            ],
            [
             0.4444444444444444,
             "#bd3786"
            ],
            [
             0.5555555555555556,
             "#d8576b"
            ],
            [
             0.6666666666666666,
             "#ed7953"
            ],
            [
             0.7777777777777778,
             "#fb9f3a"
            ],
            [
             0.8888888888888888,
             "#fdca26"
            ],
            [
             1,
             "#f0f921"
            ]
           ]
          },
          "colorway": [
           "#636efa",
           "#EF553B",
           "#00cc96",
           "#ab63fa",
           "#FFA15A",
           "#19d3f3",
           "#FF6692",
           "#B6E880",
           "#FF97FF",
           "#FECB52"
          ],
          "font": {
           "color": "#2a3f5f"
          },
          "geo": {
           "bgcolor": "white",
           "lakecolor": "white",
           "landcolor": "#E5ECF6",
           "showlakes": true,
           "showland": true,
           "subunitcolor": "white"
          },
          "hoverlabel": {
           "align": "left"
          },
          "hovermode": "closest",
          "mapbox": {
           "style": "light"
          },
          "paper_bgcolor": "white",
          "plot_bgcolor": "#E5ECF6",
          "polar": {
           "angularaxis": {
            "gridcolor": "white",
            "linecolor": "white",
            "ticks": ""
           },
           "bgcolor": "#E5ECF6",
           "radialaxis": {
            "gridcolor": "white",
            "linecolor": "white",
            "ticks": ""
           }
          },
          "scene": {
           "xaxis": {
            "backgroundcolor": "#E5ECF6",
            "gridcolor": "white",
            "gridwidth": 2,
            "linecolor": "white",
            "showbackground": true,
            "ticks": "",
            "zerolinecolor": "white"
           },
           "yaxis": {
            "backgroundcolor": "#E5ECF6",
            "gridcolor": "white",
            "gridwidth": 2,
            "linecolor": "white",
            "showbackground": true,
            "ticks": "",
            "zerolinecolor": "white"
           },
           "zaxis": {
            "backgroundcolor": "#E5ECF6",
            "gridcolor": "white",
            "gridwidth": 2,
            "linecolor": "white",
            "showbackground": true,
            "ticks": "",
            "zerolinecolor": "white"
           }
          },
          "shapedefaults": {
           "line": {
            "color": "#2a3f5f"
           }
          },
          "ternary": {
           "aaxis": {
            "gridcolor": "white",
            "linecolor": "white",
            "ticks": ""
           },
           "baxis": {
            "gridcolor": "white",
            "linecolor": "white",
            "ticks": ""
           },
           "bgcolor": "#E5ECF6",
           "caxis": {
            "gridcolor": "white",
            "linecolor": "white",
            "ticks": ""
           }
          },
          "title": {
           "x": 0.05
          },
          "xaxis": {
           "automargin": true,
           "gridcolor": "white",
           "linecolor": "white",
           "ticks": "",
           "title": {
            "standoff": 15
           },
           "zerolinecolor": "white",
           "zerolinewidth": 2
          },
          "yaxis": {
           "automargin": true,
           "gridcolor": "white",
           "linecolor": "white",
           "ticks": "",
           "title": {
            "standoff": 15
           },
           "zerolinecolor": "white",
           "zerolinewidth": 2
          }
         }
        },
        "title": {
         "text": "Pollution Levels by Weather Conditions",
         "x": 0.5
        },
        "xaxis": {
         "anchor": "y",
         "categoryarray": [
          "Cold",
          "Cool",
          "Moderate",
          "Warm",
          "Hot"
         ],
         "categoryorder": "array",
         "domain": [
          0,
          0.31999999999999995
         ],
         "tickangle": 45,
         "title": {
          "text": "Temperature Category"
         }
        },
        "xaxis2": {
         "anchor": "y2",
         "categoryarray": [
          "Cold",
          "Cool",
          "Moderate",
          "Warm",
          "Hot"
         ],
         "categoryorder": "array",
         "domain": [
          0.33999999999999997,
          0.6599999999999999
         ],
         "matches": "x",
         "tickangle": 45,
         "title": {
          "text": "Temperature Category"
         }
        },
        "xaxis3": {
         "anchor": "y3",
         "categoryarray": [
          "Cold",
          "Cool",
          "Moderate",
          "Warm",
          "Hot"
         ],
         "categoryorder": "array",
         "domain": [
          0.6799999999999999,
          0.9999999999999999
         ],
         "matches": "x",
         "tickangle": 45,
         "title": {
          "text": "Temperature Category"
         }
        },
        "yaxis": {
         "anchor": "x",
         "domain": [
          0,
          1
         ],
         "title": {
          "text": "Average AQI"
         }
        },
        "yaxis2": {
         "anchor": "x2",
         "domain": [
          0,
          1
         ],
         "matches": "y",
         "showticklabels": false
        },
        "yaxis3": {
         "anchor": "x3",
         "domain": [
          0,
          1
         ],
         "matches": "y",
         "showticklabels": false
        }
       }
      }
     },
     "metadata": {},
     "output_type": "display_data"
    }
   ],
   "source": [
    "# Calculate the average AQI for each weather category\n",
    "avg_us_aqi_weather = data.groupby(\n",
    "    ['Temperature_Category', 'Humidity_Category', 'Wind_Speed_Category']\n",
    ")['US_AQI'].mean().reset_index()\n",
    "\n",
    "fig = px.bar(\n",
    "    avg_us_aqi_weather,\n",
    "    x=\"Temperature_Category\",\n",
    "    y=\"US_AQI\",\n",
    "    color=\"Humidity_Category\",\n",
    "    facet_col=\"Wind_Speed_Category\",\n",
    "    barmode=\"group\",\n",
    "    title=\"Pollution Levels by Weather Conditions\",\n",
    "    labels={\n",
    "        \"US_AQI\": \"Average AQI\",\n",
    "        \"Temperature_Category\": \"Temperature Category\",\n",
    "        \"Humidity_Category\": \"Humidity Category\",\n",
    "        \"Wind_Speed_Category\": \"Wind Speed Category\"\n",
    "    },\n",
    "    category_orders={\n",
    "        \"Temperature_Category\": [\"Cold\", \"Cool\", \"Moderate\", \"Warm\", \"Hot\"],\n",
    "        \"Humidity_Category\": [\"Dry\", \"Comfortable\", \"Humid\"],\n",
    "        \"Wind_Speed_Category\": [\"Calm / Light Air\", \"Breeze\", \"Gale / Storm\"]\n",
    "    }\n",
    ")\n",
    "\n",
    "# Layout customization\n",
    "fig.update_layout(\n",
    "    title_x=0.5,\n",
    "    height=500,\n",
    "    bargap=0.2\n",
    ")\n",
    "\n",
    "# Rotate x-axis labels\n",
    "fig.update_xaxes(tickangle=45)\n",
    "\n",
    "# Show the plot\n",
    "fig.show()"
   ]
  },
  {
   "cell_type": "markdown",
   "metadata": {},
   "source": [
    "## 4.4. Which pollutants contribute the most to overall Air Pollution level in each city?"
   ]
  },
  {
   "cell_type": "markdown",
   "metadata": {},
   "source": [
    "*Preprocessing steps:*"
   ]
  },
  {
   "cell_type": "code",
   "execution_count": 113,
   "metadata": {},
   "outputs": [],
   "source": [
    "pollutant_columns = ['PM2.5', 'PM10', 'NO2', 'SO2', 'CO', 'O3']\n",
    "city_pollutants = data.groupby('City')[pollutant_columns].mean().reset_index()\n",
    "\n",
    "# Melt the dataframe to a long format for visualization\n",
    "city_pollutants_melted = city_pollutants.melt(id_vars='City', \n",
    "                                              value_vars=pollutant_columns, \n",
    "                                              var_name='Pollutant', \n",
    "                                              value_name='Average Level')"
   ]
  },
  {
   "cell_type": "markdown",
   "metadata": {},
   "source": [
    "*Analysis steps:*"
   ]
  },
  {
   "cell_type": "code",
   "execution_count": 114,
   "metadata": {},
   "outputs": [
    {
     "data": {
      "application/vnd.plotly.v1+json": {
       "config": {
        "plotlyServerURL": "https://plot.ly"
       },
       "data": [
        {
         "alignmentgroup": "True",
         "hovertemplate": "Pollutant=PM2.5<br>City=%{x}<br>Average Pollutant Level (µg/m³)=%{y}<extra></extra>",
         "legendgroup": "PM2.5",
         "marker": {
          "color": "rgb(228,26,28)",
          "pattern": {
           "shape": ""
          }
         },
         "name": "PM2.5",
         "offsetgroup": "PM2.5",
         "orientation": "v",
         "showlegend": true,
         "textposition": "auto",
         "type": "bar",
         "x": [
          "Bangkok",
          "Beijing",
          "Berlin",
          "Cairo",
          "Dubai",
          "Istanbul",
          "Johannesburg",
          "London",
          "Los Angeles",
          "Madrid",
          "Mexico City",
          "Moscow",
          "Mumbai",
          "New York",
          "Paris",
          "Rio de Janeiro",
          "Seoul",
          "Sydney",
          "Tokyo",
          "Toronto"
         ],
         "xaxis": "x",
         "y": [
          77.46148296593186,
          78.62784836065573,
          76.9742774566474,
          76.88845098039216,
          80.01369230769231,
          77.71121951219511,
          77.66600767754318,
          77.61490797546013,
          76.41816901408451,
          75.43476833976834,
          78.85505399568035,
          77.87860995850622,
          78.90116666666667,
          77.85705376344086,
          74.69462167689161,
          75.6695315682281,
          74.80247126436781,
          78.93355967078189,
          78.86747454175153,
          77.82764478764479
         ],
         "yaxis": "y"
        },
        {
         "alignmentgroup": "True",
         "hovertemplate": "Pollutant=PM10<br>City=%{x}<br>Average Pollutant Level (µg/m³)=%{y}<extra></extra>",
         "legendgroup": "PM10",
         "marker": {
          "color": "rgb(55,126,184)",
          "pattern": {
           "shape": ""
          }
         },
         "name": "PM10",
         "offsetgroup": "PM10",
         "orientation": "v",
         "showlegend": true,
         "textposition": "auto",
         "type": "bar",
         "x": [
          "Bangkok",
          "Beijing",
          "Berlin",
          "Cairo",
          "Dubai",
          "Istanbul",
          "Johannesburg",
          "London",
          "Los Angeles",
          "Madrid",
          "Mexico City",
          "Moscow",
          "Mumbai",
          "New York",
          "Paris",
          "Rio de Janeiro",
          "Seoul",
          "Sydney",
          "Tokyo",
          "Toronto"
         ],
         "xaxis": "x",
         "y": [
          103.9339879759519,
          103.18987704918034,
          104.37335260115606,
          102.98537254901962,
          103.89119230769231,
          103.14010162601626,
          105.13512476007678,
          103.8438036809816,
          105.53941649899396,
          105.87007722007722,
          104.52686825053996,
          105.93628630705395,
          105.84166666666667,
          102.9505376344086,
          104.64276073619631,
          105.44087576374746,
          104.99722222222223,
          103.37395061728395,
          105.04093686354379,
          103.86779922779924
         ],
         "yaxis": "y"
        },
        {
         "alignmentgroup": "True",
         "hovertemplate": "Pollutant=NO2<br>City=%{x}<br>Average Pollutant Level (µg/m³)=%{y}<extra></extra>",
         "legendgroup": "NO2",
         "marker": {
          "color": "rgb(77,175,74)",
          "pattern": {
           "shape": ""
          }
         },
         "name": "NO2",
         "offsetgroup": "NO2",
         "orientation": "v",
         "showlegend": true,
         "textposition": "auto",
         "type": "bar",
         "x": [
          "Bangkok",
          "Beijing",
          "Berlin",
          "Cairo",
          "Dubai",
          "Istanbul",
          "Johannesburg",
          "London",
          "Los Angeles",
          "Madrid",
          "Mexico City",
          "Moscow",
          "Mumbai",
          "New York",
          "Paris",
          "Rio de Janeiro",
          "Seoul",
          "Sydney",
          "Tokyo",
          "Toronto"
         ],
         "xaxis": "x",
         "y": [
          51.50715430861723,
          51.62104508196721,
          52.95560693641618,
          50.05543137254902,
          52.68303846153846,
          52.022439024390245,
          53.14692898272553,
          52.334580777096114,
          53.521207243460765,
          52.14453667953668,
          50.86365010799136,
          52.0298755186722,
          53.34407407407407,
          51.00163440860215,
          53.818486707566464,
          52.10397148676171,
          51.881800766283526,
          52.47493827160494,
          52.67276985743381,
          51.54683397683397
         ],
         "yaxis": "y"
        },
        {
         "alignmentgroup": "True",
         "hovertemplate": "Pollutant=SO2<br>City=%{x}<br>Average Pollutant Level (µg/m³)=%{y}<extra></extra>",
         "legendgroup": "SO2",
         "marker": {
          "color": "rgb(152,78,163)",
          "pattern": {
           "shape": ""
          }
         },
         "name": "SO2",
         "offsetgroup": "SO2",
         "orientation": "v",
         "showlegend": true,
         "textposition": "auto",
         "type": "bar",
         "x": [
          "Bangkok",
          "Beijing",
          "Berlin",
          "Cairo",
          "Dubai",
          "Istanbul",
          "Johannesburg",
          "London",
          "Los Angeles",
          "Madrid",
          "Mexico City",
          "Moscow",
          "Mumbai",
          "New York",
          "Paris",
          "Rio de Janeiro",
          "Seoul",
          "Sydney",
          "Tokyo",
          "Toronto"
         ],
         "xaxis": "x",
         "y": [
          25.575791583166332,
          24.903258196721314,
          24.50911368015414,
          24.987862745098038,
          24.964096153846153,
          25.76920731707317,
          24.67426103646833,
          25.495501022494885,
          26.14812877263582,
          25.14830115830116,
          26.022138228941685,
          26.11091286307054,
          25.029444444444444,
          25.168903225806453,
          24.572126789366052,
          24.5783299389002,
          25.012758620689656,
          25.6840329218107,
          27.978635437881874,
          24.802027027027027
         ],
         "yaxis": "y"
        },
        {
         "alignmentgroup": "True",
         "hovertemplate": "Pollutant=CO<br>City=%{x}<br>Average Pollutant Level (µg/m³)=%{y}<extra></extra>",
         "legendgroup": "CO",
         "marker": {
          "color": "rgb(255,127,0)",
          "pattern": {
           "shape": ""
          }
         },
         "name": "CO",
         "offsetgroup": "CO",
         "orientation": "v",
         "showlegend": true,
         "textposition": "auto",
         "type": "bar",
         "x": [
          "Bangkok",
          "Beijing",
          "Berlin",
          "Cairo",
          "Dubai",
          "Istanbul",
          "Johannesburg",
          "London",
          "Los Angeles",
          "Madrid",
          "Mexico City",
          "Moscow",
          "Mumbai",
          "New York",
          "Paris",
          "Rio de Janeiro",
          "Seoul",
          "Sydney",
          "Tokyo",
          "Toronto"
         ],
         "xaxis": "x",
         "y": [
          5.263927855711422,
          5.093442622950819,
          4.9661657032755295,
          5.127156862745098,
          5.0843461538461545,
          5.123170731707317,
          5.093397312859884,
          4.954110429447852,
          5.2468812877263575,
          4.88588803088803,
          5.14133909287257,
          5.120995850622407,
          5.077555555555556,
          4.987591397849463,
          4.940756646216769,
          4.906720977596741,
          4.88955938697318,
          5.023477366255143,
          5.101446028513238,
          4.946544401544402
         ],
         "yaxis": "y"
        },
        {
         "alignmentgroup": "True",
         "hovertemplate": "Pollutant=O3<br>City=%{x}<br>Average Pollutant Level (µg/m³)=%{y}<extra></extra>",
         "legendgroup": "O3",
         "marker": {
          "color": "rgb(255,255,51)",
          "pattern": {
           "shape": ""
          }
         },
         "name": "O3",
         "offsetgroup": "O3",
         "orientation": "v",
         "showlegend": true,
         "textposition": "auto",
         "type": "bar",
         "x": [
          "Bangkok",
          "Beijing",
          "Berlin",
          "Cairo",
          "Dubai",
          "Istanbul",
          "Johannesburg",
          "London",
          "Los Angeles",
          "Madrid",
          "Mexico City",
          "Moscow",
          "Mumbai",
          "New York",
          "Paris",
          "Rio de Janeiro",
          "Seoul",
          "Sydney",
          "Tokyo",
          "Toronto"
         ],
         "xaxis": "x",
         "y": [
          101.00306613226452,
          105.74022540983607,
          102.9297880539499,
          105.92988235294118,
          106.39567307692307,
          106.17798780487804,
          106.18289827255279,
          103.30543967280164,
          105.04348088531187,
          103.7758301158301,
          105.68628509719223,
          107.29421161825725,
          106.64364814814815,
          106.37184946236559,
          106.91002044989776,
          108.06930753564154,
          107.02425287356323,
          106.81843621399177,
          108.47949083503055,
          110.8503667953668
         ],
         "yaxis": "y"
        }
       ],
       "layout": {
        "barmode": "group",
        "legend": {
         "title": {
          "text": "Pollutant"
         },
         "tracegroupgap": 0
        },
        "template": {
         "data": {
          "bar": [
           {
            "error_x": {
             "color": "#2a3f5f"
            },
            "error_y": {
             "color": "#2a3f5f"
            },
            "marker": {
             "line": {
              "color": "#E5ECF6",
              "width": 0.5
             },
             "pattern": {
              "fillmode": "overlay",
              "size": 10,
              "solidity": 0.2
             }
            },
            "type": "bar"
           }
          ],
          "barpolar": [
           {
            "marker": {
             "line": {
              "color": "#E5ECF6",
              "width": 0.5
             },
             "pattern": {
              "fillmode": "overlay",
              "size": 10,
              "solidity": 0.2
             }
            },
            "type": "barpolar"
           }
          ],
          "carpet": [
           {
            "aaxis": {
             "endlinecolor": "#2a3f5f",
             "gridcolor": "white",
             "linecolor": "white",
             "minorgridcolor": "white",
             "startlinecolor": "#2a3f5f"
            },
            "baxis": {
             "endlinecolor": "#2a3f5f",
             "gridcolor": "white",
             "linecolor": "white",
             "minorgridcolor": "white",
             "startlinecolor": "#2a3f5f"
            },
            "type": "carpet"
           }
          ],
          "choropleth": [
           {
            "colorbar": {
             "outlinewidth": 0,
             "ticks": ""
            },
            "type": "choropleth"
           }
          ],
          "contour": [
           {
            "colorbar": {
             "outlinewidth": 0,
             "ticks": ""
            },
            "colorscale": [
             [
              0,
              "#0d0887"
             ],
             [
              0.1111111111111111,
              "#46039f"
             ],
             [
              0.2222222222222222,
              "#7201a8"
             ],
             [
              0.3333333333333333,
              "#9c179e"
             ],
             [
              0.4444444444444444,
              "#bd3786"
             ],
             [
              0.5555555555555556,
              "#d8576b"
             ],
             [
              0.6666666666666666,
              "#ed7953"
             ],
             [
              0.7777777777777778,
              "#fb9f3a"
             ],
             [
              0.8888888888888888,
              "#fdca26"
             ],
             [
              1,
              "#f0f921"
             ]
            ],
            "type": "contour"
           }
          ],
          "contourcarpet": [
           {
            "colorbar": {
             "outlinewidth": 0,
             "ticks": ""
            },
            "type": "contourcarpet"
           }
          ],
          "heatmap": [
           {
            "colorbar": {
             "outlinewidth": 0,
             "ticks": ""
            },
            "colorscale": [
             [
              0,
              "#0d0887"
             ],
             [
              0.1111111111111111,
              "#46039f"
             ],
             [
              0.2222222222222222,
              "#7201a8"
             ],
             [
              0.3333333333333333,
              "#9c179e"
             ],
             [
              0.4444444444444444,
              "#bd3786"
             ],
             [
              0.5555555555555556,
              "#d8576b"
             ],
             [
              0.6666666666666666,
              "#ed7953"
             ],
             [
              0.7777777777777778,
              "#fb9f3a"
             ],
             [
              0.8888888888888888,
              "#fdca26"
             ],
             [
              1,
              "#f0f921"
             ]
            ],
            "type": "heatmap"
           }
          ],
          "heatmapgl": [
           {
            "colorbar": {
             "outlinewidth": 0,
             "ticks": ""
            },
            "colorscale": [
             [
              0,
              "#0d0887"
             ],
             [
              0.1111111111111111,
              "#46039f"
             ],
             [
              0.2222222222222222,
              "#7201a8"
             ],
             [
              0.3333333333333333,
              "#9c179e"
             ],
             [
              0.4444444444444444,
              "#bd3786"
             ],
             [
              0.5555555555555556,
              "#d8576b"
             ],
             [
              0.6666666666666666,
              "#ed7953"
             ],
             [
              0.7777777777777778,
              "#fb9f3a"
             ],
             [
              0.8888888888888888,
              "#fdca26"
             ],
             [
              1,
              "#f0f921"
             ]
            ],
            "type": "heatmapgl"
           }
          ],
          "histogram": [
           {
            "marker": {
             "pattern": {
              "fillmode": "overlay",
              "size": 10,
              "solidity": 0.2
             }
            },
            "type": "histogram"
           }
          ],
          "histogram2d": [
           {
            "colorbar": {
             "outlinewidth": 0,
             "ticks": ""
            },
            "colorscale": [
             [
              0,
              "#0d0887"
             ],
             [
              0.1111111111111111,
              "#46039f"
             ],
             [
              0.2222222222222222,
              "#7201a8"
             ],
             [
              0.3333333333333333,
              "#9c179e"
             ],
             [
              0.4444444444444444,
              "#bd3786"
             ],
             [
              0.5555555555555556,
              "#d8576b"
             ],
             [
              0.6666666666666666,
              "#ed7953"
             ],
             [
              0.7777777777777778,
              "#fb9f3a"
             ],
             [
              0.8888888888888888,
              "#fdca26"
             ],
             [
              1,
              "#f0f921"
             ]
            ],
            "type": "histogram2d"
           }
          ],
          "histogram2dcontour": [
           {
            "colorbar": {
             "outlinewidth": 0,
             "ticks": ""
            },
            "colorscale": [
             [
              0,
              "#0d0887"
             ],
             [
              0.1111111111111111,
              "#46039f"
             ],
             [
              0.2222222222222222,
              "#7201a8"
             ],
             [
              0.3333333333333333,
              "#9c179e"
             ],
             [
              0.4444444444444444,
              "#bd3786"
             ],
             [
              0.5555555555555556,
              "#d8576b"
             ],
             [
              0.6666666666666666,
              "#ed7953"
             ],
             [
              0.7777777777777778,
              "#fb9f3a"
             ],
             [
              0.8888888888888888,
              "#fdca26"
             ],
             [
              1,
              "#f0f921"
             ]
            ],
            "type": "histogram2dcontour"
           }
          ],
          "mesh3d": [
           {
            "colorbar": {
             "outlinewidth": 0,
             "ticks": ""
            },
            "type": "mesh3d"
           }
          ],
          "parcoords": [
           {
            "line": {
             "colorbar": {
              "outlinewidth": 0,
              "ticks": ""
             }
            },
            "type": "parcoords"
           }
          ],
          "pie": [
           {
            "automargin": true,
            "type": "pie"
           }
          ],
          "scatter": [
           {
            "fillpattern": {
             "fillmode": "overlay",
             "size": 10,
             "solidity": 0.2
            },
            "type": "scatter"
           }
          ],
          "scatter3d": [
           {
            "line": {
             "colorbar": {
              "outlinewidth": 0,
              "ticks": ""
             }
            },
            "marker": {
             "colorbar": {
              "outlinewidth": 0,
              "ticks": ""
             }
            },
            "type": "scatter3d"
           }
          ],
          "scattercarpet": [
           {
            "marker": {
             "colorbar": {
              "outlinewidth": 0,
              "ticks": ""
             }
            },
            "type": "scattercarpet"
           }
          ],
          "scattergeo": [
           {
            "marker": {
             "colorbar": {
              "outlinewidth": 0,
              "ticks": ""
             }
            },
            "type": "scattergeo"
           }
          ],
          "scattergl": [
           {
            "marker": {
             "colorbar": {
              "outlinewidth": 0,
              "ticks": ""
             }
            },
            "type": "scattergl"
           }
          ],
          "scattermapbox": [
           {
            "marker": {
             "colorbar": {
              "outlinewidth": 0,
              "ticks": ""
             }
            },
            "type": "scattermapbox"
           }
          ],
          "scatterpolar": [
           {
            "marker": {
             "colorbar": {
              "outlinewidth": 0,
              "ticks": ""
             }
            },
            "type": "scatterpolar"
           }
          ],
          "scatterpolargl": [
           {
            "marker": {
             "colorbar": {
              "outlinewidth": 0,
              "ticks": ""
             }
            },
            "type": "scatterpolargl"
           }
          ],
          "scatterternary": [
           {
            "marker": {
             "colorbar": {
              "outlinewidth": 0,
              "ticks": ""
             }
            },
            "type": "scatterternary"
           }
          ],
          "surface": [
           {
            "colorbar": {
             "outlinewidth": 0,
             "ticks": ""
            },
            "colorscale": [
             [
              0,
              "#0d0887"
             ],
             [
              0.1111111111111111,
              "#46039f"
             ],
             [
              0.2222222222222222,
              "#7201a8"
             ],
             [
              0.3333333333333333,
              "#9c179e"
             ],
             [
              0.4444444444444444,
              "#bd3786"
             ],
             [
              0.5555555555555556,
              "#d8576b"
             ],
             [
              0.6666666666666666,
              "#ed7953"
             ],
             [
              0.7777777777777778,
              "#fb9f3a"
             ],
             [
              0.8888888888888888,
              "#fdca26"
             ],
             [
              1,
              "#f0f921"
             ]
            ],
            "type": "surface"
           }
          ],
          "table": [
           {
            "cells": {
             "fill": {
              "color": "#EBF0F8"
             },
             "line": {
              "color": "white"
             }
            },
            "header": {
             "fill": {
              "color": "#C8D4E3"
             },
             "line": {
              "color": "white"
             }
            },
            "type": "table"
           }
          ]
         },
         "layout": {
          "annotationdefaults": {
           "arrowcolor": "#2a3f5f",
           "arrowhead": 0,
           "arrowwidth": 1
          },
          "autotypenumbers": "strict",
          "coloraxis": {
           "colorbar": {
            "outlinewidth": 0,
            "ticks": ""
           }
          },
          "colorscale": {
           "diverging": [
            [
             0,
             "#8e0152"
            ],
            [
             0.1,
             "#c51b7d"
            ],
            [
             0.2,
             "#de77ae"
            ],
            [
             0.3,
             "#f1b6da"
            ],
            [
             0.4,
             "#fde0ef"
            ],
            [
             0.5,
             "#f7f7f7"
            ],
            [
             0.6,
             "#e6f5d0"
            ],
            [
             0.7,
             "#b8e186"
            ],
            [
             0.8,
             "#7fbc41"
            ],
            [
             0.9,
             "#4d9221"
            ],
            [
             1,
             "#276419"
            ]
           ],
           "sequential": [
            [
             0,
             "#0d0887"
            ],
            [
             0.1111111111111111,
             "#46039f"
            ],
            [
             0.2222222222222222,
             "#7201a8"
            ],
            [
             0.3333333333333333,
             "#9c179e"
            ],
            [
             0.4444444444444444,
             "#bd3786"
            ],
            [
             0.5555555555555556,
             "#d8576b"
            ],
            [
             0.6666666666666666,
             "#ed7953"
            ],
            [
             0.7777777777777778,
             "#fb9f3a"
            ],
            [
             0.8888888888888888,
             "#fdca26"
            ],
            [
             1,
             "#f0f921"
            ]
           ],
           "sequentialminus": [
            [
             0,
             "#0d0887"
            ],
            [
             0.1111111111111111,
             "#46039f"
            ],
            [
             0.2222222222222222,
             "#7201a8"
            ],
            [
             0.3333333333333333,
             "#9c179e"
            ],
            [
             0.4444444444444444,
             "#bd3786"
            ],
            [
             0.5555555555555556,
             "#d8576b"
            ],
            [
             0.6666666666666666,
             "#ed7953"
            ],
            [
             0.7777777777777778,
             "#fb9f3a"
            ],
            [
             0.8888888888888888,
             "#fdca26"
            ],
            [
             1,
             "#f0f921"
            ]
           ]
          },
          "colorway": [
           "#636efa",
           "#EF553B",
           "#00cc96",
           "#ab63fa",
           "#FFA15A",
           "#19d3f3",
           "#FF6692",
           "#B6E880",
           "#FF97FF",
           "#FECB52"
          ],
          "font": {
           "color": "#2a3f5f"
          },
          "geo": {
           "bgcolor": "white",
           "lakecolor": "white",
           "landcolor": "#E5ECF6",
           "showlakes": true,
           "showland": true,
           "subunitcolor": "white"
          },
          "hoverlabel": {
           "align": "left"
          },
          "hovermode": "closest",
          "mapbox": {
           "style": "light"
          },
          "paper_bgcolor": "white",
          "plot_bgcolor": "#E5ECF6",
          "polar": {
           "angularaxis": {
            "gridcolor": "white",
            "linecolor": "white",
            "ticks": ""
           },
           "bgcolor": "#E5ECF6",
           "radialaxis": {
            "gridcolor": "white",
            "linecolor": "white",
            "ticks": ""
           }
          },
          "scene": {
           "xaxis": {
            "backgroundcolor": "#E5ECF6",
            "gridcolor": "white",
            "gridwidth": 2,
            "linecolor": "white",
            "showbackground": true,
            "ticks": "",
            "zerolinecolor": "white"
           },
           "yaxis": {
            "backgroundcolor": "#E5ECF6",
            "gridcolor": "white",
            "gridwidth": 2,
            "linecolor": "white",
            "showbackground": true,
            "ticks": "",
            "zerolinecolor": "white"
           },
           "zaxis": {
            "backgroundcolor": "#E5ECF6",
            "gridcolor": "white",
            "gridwidth": 2,
            "linecolor": "white",
            "showbackground": true,
            "ticks": "",
            "zerolinecolor": "white"
           }
          },
          "shapedefaults": {
           "line": {
            "color": "#2a3f5f"
           }
          },
          "ternary": {
           "aaxis": {
            "gridcolor": "white",
            "linecolor": "white",
            "ticks": ""
           },
           "baxis": {
            "gridcolor": "white",
            "linecolor": "white",
            "ticks": ""
           },
           "bgcolor": "#E5ECF6",
           "caxis": {
            "gridcolor": "white",
            "linecolor": "white",
            "ticks": ""
           }
          },
          "title": {
           "x": 0.05
          },
          "xaxis": {
           "automargin": true,
           "gridcolor": "white",
           "linecolor": "white",
           "ticks": "",
           "title": {
            "standoff": 15
           },
           "zerolinecolor": "white",
           "zerolinewidth": 2
          },
          "yaxis": {
           "automargin": true,
           "gridcolor": "white",
           "linecolor": "white",
           "ticks": "",
           "title": {
            "standoff": 15
           },
           "zerolinecolor": "white",
           "zerolinewidth": 2
          }
         }
        },
        "title": {
         "text": "Average Pollutant Contribution to Air Pollution Level in Each City"
        },
        "xaxis": {
         "anchor": "y",
         "domain": [
          0,
          1
         ],
         "title": {
          "text": "City"
         }
        },
        "yaxis": {
         "anchor": "x",
         "domain": [
          0,
          1
         ],
         "title": {
          "text": "Average Pollutant Level (µg/m³)"
         }
        }
       }
      }
     },
     "metadata": {},
     "output_type": "display_data"
    }
   ],
   "source": [
    "\n",
    "fig_pollutants = px.bar(city_pollutants_melted, \n",
    "                        x='City', \n",
    "                        y='Average Level',\n",
    "                        color='Pollutant',\n",
    "                        title='Average Pollutant Contribution to Air Pollution Level in Each City',\n",
    "                        labels={'Average Level': 'Average Pollutant Level (µg/m³)', 'City': 'City'},\n",
    "                        barmode='group',\n",
    "                        color_discrete_sequence=px.colors.qualitative.Set1)\n",
    "fig_pollutants.update_layout(template='plotly')\n",
    "fig_pollutants.show()"
   ]
  },
  {
   "cell_type": "markdown",
   "metadata": {},
   "source": [
    "## 4.5. How does population density impact air quality?"
   ]
  },
  {
   "cell_type": "markdown",
   "metadata": {},
   "source": [
    "*Preprocessing steps:*"
   ]
  },
  {
   "cell_type": "code",
   "execution_count": null,
   "metadata": {},
   "outputs": [],
   "source": []
  },
  {
   "cell_type": "markdown",
   "metadata": {},
   "source": [
    "*Analysis steps:*"
   ]
  },
  {
   "cell_type": "code",
   "execution_count": null,
   "metadata": {},
   "outputs": [],
   "source": []
  },
  {
   "cell_type": "code",
   "execution_count": null,
   "metadata": {},
   "outputs": [],
   "source": []
  }
 ],
 "metadata": {
  "kernelspec": {
   "display_name": "base",
   "language": "python",
   "name": "python3"
  },
  "language_info": {
   "codemirror_mode": {
    "name": "ipython",
    "version": 3
   },
   "file_extension": ".py",
   "mimetype": "text/x-python",
   "name": "python",
   "nbconvert_exporter": "python",
   "pygments_lexer": "ipython3",
   "version": "3.12.7"
  }
 },
 "nbformat": 4,
 "nbformat_minor": 2
}
