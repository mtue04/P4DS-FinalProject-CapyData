{
 "cells": [
  {
   "cell_type": "markdown",
   "metadata": {},
   "source": [
    "# 🌍 Global Air Quality Analysis - Project Reflection\n",
    "\n",
    "## 🏔️ 1. Challenges Faced\n",
    "\n",
    "### Cao Hoàng Lộc:\n",
    "- Lack of Seasonality: The absence of cyclical patterns made it difficult to identify recurring trends in air quality and weather data.\n",
    "- Visualization Challenges: The complexity and lack of clear patterns made it hard to create effective visualizations for understanding relationships between variables.\n",
    "- Limited Understanding of Air Pollution: A lack of domain knowledge made it challenging to interpret results and select relevant features for the model.\n",
    "\n",
    "### Phan Võ Minh Tuệ:\n",
    "- Difficulty in accessing consistent and reliable air quality datasets from various regions.\n",
    "- Managing time effectively between different phases of the project.\n",
    "- The selected data lacked continuous time series for 2023, resulting in difficulties identifying cycles.\n",
    "- Formulating meaningful and valuable questions without ambiguity. Ensuring these questions are backed by scientific articles or phenomena-based reports to explain the results.\n",
    "- Lack of proficiency in using Git and GitHub, which affected workflow efficiency.\n",
    "\n",
    "### Phạm Anh Văn:\n",
    "- Difficulty in Extracting Insights from Data because of the familiarity and similarity of AQI trends across different years and cities, making it hard to distinguish unique characteristics or anomalies.\n",
    "- Visualization Challenges: hard to differential insight between cities, features,... due to its familiarity and the lack of skills of chart's selection.\n",
    " \n",
    "## 🎓 2. Lessons Learned\n",
    "\n",
    "### Cao Hoàng Lộc:\n",
    "- Exposure to Time Series Data: Gained experience working with time series data, improving understanding of temporal patterns and trends.\n",
    "- Asking the Right Questions: Learned how to ask the right questions to uncover valuable insights from the dataset.\n",
    "- Basic Preprocessing Skills: Gained knowledge of essential preprocessing techniques, such as handling missing data, normalization, and feature selection.\n",
    "\n",
    "### Phan Võ Minh Tuệ:\n",
    "- Enhanced proficiency in using Python libraries for data analysis, such as Pandas and Matplotlib.\n",
    "- Learned how to identify and address common data anomalies.\n",
    "- Improved teamwork skills and gained better understanding of team members' personalities, which will benefit collaboration in future projects.\n",
    "\n",
    "### Phạm Anh Văn:\n",
    "- The Value of Understanding dataset as its data types and data's insights.\n",
    "- The importance of preprocessing: well preprocessing, including handling outliers, imputing missing values, ... significantly improves the effective in further Data Science process\n",
    "\n",
    "## 🚀 3. Future improvements:\n",
    "\n",
    "- Enhance time series analysis to uncover trends, seasonality, and anomalies in air quality and weather data.\n",
    "- Develop predictive models to forecast air quality and weather conditions, enabling proactive pollution management.\n",
    "- Source high-quality, continuous time-series datasets, particularly for 2023, to improve analysis accuracy.\n",
    "- Conduct in-depth analysis of specific pollutants and their health impacts.\n",
    "- Incorporate real-time data streams for dynamic insights and integrate forecasting models to predict air quality trends effectively."
   ]
  },
  {
   "cell_type": "markdown",
   "metadata": {},
   "source": []
  }
 ],
 "metadata": {
  "language_info": {
   "name": "python"
  }
 },
 "nbformat": 4,
 "nbformat_minor": 2
}
