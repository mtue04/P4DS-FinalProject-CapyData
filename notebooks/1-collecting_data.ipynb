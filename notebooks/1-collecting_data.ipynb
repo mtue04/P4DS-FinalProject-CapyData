{
 "cells": [
  {
   "cell_type": "markdown",
   "metadata": {},
   "source": [
    "# Global Air Quality Analysis\n",
    "\n",
    "## Data Source\n",
    "Source: [Global Air Quality Dataset](https://www.kaggle.com/datasets/waqi786/global-air-quality-dataset)\n",
    "\n",
    "## Authors\n",
    "**Author Name**: Waqar Ali (Data Science Student, Aspiring Kaggle Grandmaster)\n",
    "\n",
    "**Provenance**\n",
    "- **Sources**: The data was collected from various reliable sources including governmental environmental agencies and international organizations focused on air quality monitoring. The data has been aggregated and processed to ensure consistency and accuracy.\n",
    "- **Collection Methodology**: The air quality data was collected from multiple official monitoring stations located in the respective cities. The measurements were recorded at regular intervals and compiled to form a comprehensive dataset covering various pollutants and environmental factors. The data was then cleaned and formatted to ensure it is ready for analysis.\n",
    "\n",
    "**License**: The data is licensed under the [Apache 2.0](https://www.apache.org/licenses/LICENSE-2.0)  license, which allows for broad use and distribution of the data. Specifically, the Apache 2.0 license permits you to:\n",
    "- Use the data for any purpose, commercial or non-commercial\n",
    "- Modify, distribute, and reproduce the data\n",
    "- Create derivative works based on the data\n",
    "- Apply the data in your own projects or analyses\n",
    "\n",
    "As long as you comply with the basic requirements like preserving the license and attribution information, you have extensive rights to work with this air quality dataset as needed."
   ]
  },
  {
   "cell_type": "markdown",
   "metadata": {},
   "source": [
    "# 1. Data Collection"
   ]
  },
  {
   "cell_type": "code",
   "execution_count": 1,
   "metadata": {},
   "outputs": [
    {
     "name": "stdout",
     "output_type": "stream",
     "text": [
      "Requirement already satisfied: kaggle in /home/mtue/miniconda3/envs/min_ds-env/lib/python3.12/site-packages (1.6.17)\n",
      "Requirement already satisfied: six>=1.10 in /home/mtue/miniconda3/envs/min_ds-env/lib/python3.12/site-packages (from kaggle) (1.16.0)\n",
      "Requirement already satisfied: certifi>=2023.7.22 in /home/mtue/miniconda3/envs/min_ds-env/lib/python3.12/site-packages (from kaggle) (2024.8.30)\n",
      "Requirement already satisfied: python-dateutil in /home/mtue/miniconda3/envs/min_ds-env/lib/python3.12/site-packages (from kaggle) (2.9.0)\n",
      "Requirement already satisfied: requests in /home/mtue/miniconda3/envs/min_ds-env/lib/python3.12/site-packages (from kaggle) (2.32.3)\n",
      "Requirement already satisfied: tqdm in /home/mtue/miniconda3/envs/min_ds-env/lib/python3.12/site-packages (from kaggle) (4.66.6)\n",
      "Requirement already satisfied: python-slugify in /home/mtue/miniconda3/envs/min_ds-env/lib/python3.12/site-packages (from kaggle) (8.0.4)\n",
      "Requirement already satisfied: urllib3 in /home/mtue/miniconda3/envs/min_ds-env/lib/python3.12/site-packages (from kaggle) (2.2.3)\n",
      "Requirement already satisfied: bleach in /home/mtue/miniconda3/envs/min_ds-env/lib/python3.12/site-packages (from kaggle) (6.1.0)\n",
      "Requirement already satisfied: webencodings in /home/mtue/miniconda3/envs/min_ds-env/lib/python3.12/site-packages (from bleach->kaggle) (0.5.1)\n",
      "Requirement already satisfied: text-unidecode>=1.3 in /home/mtue/miniconda3/envs/min_ds-env/lib/python3.12/site-packages (from python-slugify->kaggle) (1.3)\n",
      "Requirement already satisfied: charset-normalizer<4,>=2 in /home/mtue/miniconda3/envs/min_ds-env/lib/python3.12/site-packages (from requests->kaggle) (3.3.2)\n",
      "Requirement already satisfied: idna<4,>=2.5 in /home/mtue/miniconda3/envs/min_ds-env/lib/python3.12/site-packages (from requests->kaggle) (3.10)\n"
     ]
    }
   ],
   "source": [
    "!pip install kaggle"
   ]
  },
  {
   "cell_type": "code",
   "execution_count": 2,
   "metadata": {},
   "outputs": [
    {
     "name": "stdout",
     "output_type": "stream",
     "text": [
      "Warning: Your Kaggle API key is readable by other users on this system! To fix this, you can run 'chmod 600 /home/mtue/.config/kaggle/kaggle.json'\n",
      "ref                                                                                deadline             category                reward  teamCount  userHasEntered  \n",
      "---------------------------------------------------------------------------------  -------------------  ---------------  -------------  ---------  --------------  \n",
      "https://www.kaggle.com/competitions/ai-mathematical-olympiad-progress-prize-2      2025-04-01 23:59:00  Featured         2,117,152 Usd        497           False  \n",
      "https://www.kaggle.com/competitions/gemma-language-tuning                          2025-01-15 00:59:00  Analytics          150,000 Usd          0           False  \n",
      "https://www.kaggle.com/competitions/jane-street-real-time-market-data-forecasting  2025-01-13 23:59:00  Featured           120,000 Usd       1608           False  \n",
      "https://www.kaggle.com/competitions/gemini-long-context                            2024-12-01 23:59:00  Analytics          100,000 Usd          0           False  \n",
      "https://www.kaggle.com/competitions/nfl-big-data-bowl-2025                         2025-01-08 23:59:00  Analytics          100,000 Usd          0           False  \n",
      "https://www.kaggle.com/competitions/czii-cryo-et-object-identification             2025-02-05 23:59:00  Featured            75,000 Usd        162           False  \n",
      "https://www.kaggle.com/competitions/child-mind-institute-problematic-internet-use  2024-12-19 23:59:00  Featured            60,000 Usd       2431           False  \n",
      "https://www.kaggle.com/competitions/eedi-mining-misconceptions-in-mathematics      2024-12-12 23:59:00  Featured            55,000 Usd       1260           False  \n",
      "https://www.kaggle.com/competitions/um-game-playing-strength-of-mcts-variants      2024-12-02 23:59:00  Research            50,000 Usd       1461           False  \n",
      "https://www.kaggle.com/competitions/fide-google-efficiency-chess-ai-challenge      2025-02-11 23:59:00  Featured            50,000 Usd        139           False  \n",
      "https://www.kaggle.com/competitions/wsdm-cup-multilingual-chatbot-arena            2025-02-03 23:59:00  Featured            50,000 Usd         53           False  \n",
      "https://www.kaggle.com/competitions/playground-series-s4e11                        2024-11-30 23:59:00  Playground                Swag       1745           False  \n",
      "https://www.kaggle.com/competitions/titanic                                        2030-01-01 00:00:00  Getting Started      Knowledge      16313           False  \n",
      "https://www.kaggle.com/competitions/house-prices-advanced-regression-techniques    2030-01-01 00:00:00  Getting Started      Knowledge       6071           False  \n",
      "https://www.kaggle.com/competitions/spaceship-titanic                              2030-01-01 00:00:00  Getting Started      Knowledge       1726           False  \n",
      "https://www.kaggle.com/competitions/digit-recognizer                               2030-01-01 00:00:00  Getting Started      Knowledge       1673           False  \n",
      "https://www.kaggle.com/competitions/nlp-getting-started                            2030-01-01 00:00:00  Getting Started      Knowledge       1090           False  \n",
      "https://www.kaggle.com/competitions/store-sales-time-series-forecasting            2030-06-30 23:59:00  Getting Started      Knowledge        774           False  \n",
      "https://www.kaggle.com/competitions/connectx                                       2030-01-01 00:00:00  Getting Started      Knowledge        197           False  \n",
      "https://www.kaggle.com/competitions/gan-getting-started                            2030-07-01 23:59:00  Getting Started      Knowledge         91           False  \n"
     ]
    }
   ],
   "source": [
    "!kaggle competitions list"
   ]
  },
  {
   "cell_type": "code",
   "execution_count": 3,
   "metadata": {},
   "outputs": [
    {
     "name": "stdout",
     "output_type": "stream",
     "text": [
      "Warning: Your Kaggle API key is readable by other users on this system! To fix this, you can run 'chmod 600 /home/mtue/.config/kaggle/kaggle.json'\n",
      "Dataset URL: https://www.kaggle.com/datasets/waqi786/global-air-quality-dataset\n",
      "License(s): apache-2.0\n",
      "Downloading global-air-quality-dataset.zip to /home/mtue/P4DS-FinalProject-CapyData/notebooks\n",
      "100%|█████████████████████████████████████████| 258k/258k [00:00<00:00, 429kB/s]\n",
      "100%|█████████████████████████████████████████| 258k/258k [00:00<00:00, 428kB/s]\n"
     ]
    }
   ],
   "source": [
    "!kaggle datasets download waqi786/global-air-quality-dataset"
   ]
  },
  {
   "cell_type": "markdown",
   "metadata": {},
   "source": [
    "Unzip file and store at `/data`"
   ]
  },
  {
   "cell_type": "code",
   "execution_count": 4,
   "metadata": {},
   "outputs": [],
   "source": [
    "import zipfile\n",
    "import os\n",
    "\n",
    "with zipfile.ZipFile('global-air-quality-dataset.zip', 'r') as zip_ref:\n",
    "    zip_ref.extractall('../data')\n",
    "\n",
    "    os.remove('global-air-quality-dataset.zip')"
   ]
  }
 ],
 "metadata": {
  "kernelspec": {
   "display_name": "min_ds-env",
   "language": "python",
   "name": "python3"
  },
  "language_info": {
   "codemirror_mode": {
    "name": "ipython",
    "version": 3
   },
   "file_extension": ".py",
   "mimetype": "text/x-python",
   "name": "python",
   "nbconvert_exporter": "python",
   "pygments_lexer": "ipython3",
   "version": "3.12.7"
  }
 },
 "nbformat": 4,
 "nbformat_minor": 2
}
